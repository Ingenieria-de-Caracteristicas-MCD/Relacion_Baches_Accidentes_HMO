{
 "cells": [
  {
   "cell_type": "markdown",
   "id": "98c45638",
   "metadata": {},
   "source": [
    "# Extracción de datos: Colonias — Delimitaciones Geoestadísticas (INEGI)\n",
    "\n",
    "## 1. Descripción general\n",
    "\n",
    "Esta notebook forma parte del proyecto [**Relacion Baches Accidentes HMO**](https://github.com/Ingenieria-de-Caracteristicas-MCD/Relacion_Baches_Accidentes_HMO). \n",
    "\n",
    "En esta etapa se trabaja con el conjunto de datos **Colonias — Delimitaciones Geoestadísticas**, publicado por el **INEGI**, disponible públicamente en:\n",
    "\n",
    "\n",
    "🔗 [https://www.inegi.org.mx/app/biblioteca/ficha.html?upc=794551132180](https://www.inegi.org.mx/app/biblioteca/ficha.html?upc=794551132180)\n",
    "\n",
    "\n",
    "El conjunto contiene información geoespacial sobre las delimitaciones de colonias urbanas y rurales en México.  \n",
    "\n",
    "Cada polígono incluye atributos como:\n",
    "- Claves geoestadísticas (`CVE_ENT`, `CVE_MUN`, `CVE_LOC`)  \n",
    "- Nombre de la colonia o localidad  \n",
    "- Identificadores de entidad y municipio\n",
    "\n",
    "### 1.1 Objetivo de esta notebook\n",
    "\n",
    "Documentar el proceso automatizado de:\n",
    "1. **Descargar** el archivo ZIP oficial de delimitaciones de colonias desde INEGI.  \n",
    "2. **Extraer y filtrar** los polígonos correspondientes a **Hermosillo, Sonora (CVE_ENT=26, CVE_MUN=30, CVE_LOC=0001)**.  \n",
    "3. **Guardar** el resultado filtrado en formato `GeoJSON` dentro de `data/interim/geo/`.\n",
    "\n",
    "El flujo completo utiliza los siguientes scripts:\n",
    "- `src/download_colonias.py`  \n",
    "- `src/extract_colonias.py`\n",
    "\n",
    "\n",
    "## 2. Configuración del entorno\n",
    "\n",
    "A continuación se importan las funciones y rutas necesarias para ejecutar el flujo completo de extracción de los datos de colonias.\n",
    "\n",
    "El archivo `src/config.py` define las rutas base del proyecto, mientas que los módulos `src/download_colonias.py` y `src/extract_colonias.py` contienen la lógica de descarga y extracción respectivamente."
   ]
  },
  {
   "cell_type": "code",
   "execution_count": 1,
   "id": "c185f78a",
   "metadata": {},
   "outputs": [],
   "source": [
    "import sys\n",
    "from pathlib import Path\n",
    "\n",
    "import pandas as pd\n",
    "import geopandas as gpd"
   ]
  },
  {
   "cell_type": "code",
   "execution_count": 2,
   "id": "8c50bb4c",
   "metadata": {},
   "outputs": [],
   "source": [
    "SRC_DIR = Path().resolve().parent / \"src\"\n",
    "\n",
    "if str(SRC_DIR) not in sys.path: \n",
    "    sys.path.insert(0, str(SRC_DIR))\n",
    "\n",
    "# for x in sys.path: print(x)"
   ]
  },
  {
   "cell_type": "code",
   "execution_count": 3,
   "id": "72423c97",
   "metadata": {},
   "outputs": [
    {
     "name": "stdout",
     "output_type": "stream",
     "text": [
      "Raw data directory: data\\raw True True\n",
      "Interim data directory: data\\interim True True\n"
     ]
    }
   ],
   "source": [
    "from config import ROOT_DIR, RAW_DIR, INTERIM_DIR\n",
    "from download_colonias import download_colonias\n",
    "from extract_colonias import process_extraction_colonias\n",
    "\n",
    "# Verificación de rutas\n",
    "print(\"Raw data directory:\", RAW_DIR.relative_to(ROOT_DIR), RAW_DIR.exists(), RAW_DIR.is_dir())\n",
    "print(\"Interim data directory:\", INTERIM_DIR.relative_to(ROOT_DIR), INTERIM_DIR.exists(), INTERIM_DIR.is_dir())\n"
   ]
  },
  {
   "cell_type": "markdown",
   "id": "f8a319a2",
   "metadata": {},
   "source": [
    "## 3. Descarga del archivo ZIP\n",
    "\n",
    "El script `src/download_colonias.py` descarga el archivo ZIP de delimitaciones geoespaciales desde el sitio oficial del INEGI. \n",
    "\n",
    "Una vez validada la integridad del archivo, se guarda en `data/raw/geo/colonias`. "
   ]
  },
  {
   "cell_type": "code",
   "execution_count": 4,
   "id": "69f19c4d",
   "metadata": {},
   "outputs": [
    {
     "name": "stderr",
     "output_type": "stream",
     "text": [
      "\u001b[32m2025-10-13 13:34:12,397 - INFO - download_colonias.py - Inicia proceso de descarga de Colonias (INEGI)\n",
      "\u001b[0m\n",
      "Descargando 794551132180_s.zip: 100%|##########| 71.6M/71.6M [02:10<00:00, 550kB/s] \n",
      "\u001b[32m2025-10-13 13:36:24,666 - INFO - download_colonias.py - Descarga finalizada en 132.27 s\n",
      "\u001b[0m\n",
      "\u001b[32m2025-10-13 13:36:24,668 - INFO - download_colonias.py - Archivos descargados:\u001b[0m\n"
     ]
    },
    {
     "name": "stdout",
     "output_type": "stream",
     "text": [
      " - data\\raw\\geo\\colonias\\794551132180_s.zip\n",
      "\n"
     ]
    }
   ],
   "source": [
    "# Descarga del archivo ZIP de colonias\n",
    "zip_path = download_colonias()"
   ]
  },
  {
   "cell_type": "markdown",
   "id": "1df0de39",
   "metadata": {},
   "source": [
    "## 4. Extracción y filtrado de Hermosillo\n",
    "\n",
    "El script `extract_colonias.py` realiza las siguientes operaciones: \n",
    "\n",
    "1. Extrae el archivo ZIP descargado en `data/raw/geo/colonias`. \n",
    "2. Busca los archivos `.shp` (shapefiles) generados durante la extracción. \n",
    "3. Filtra únicamente las colonias pertenecientes a: \n",
    "    - **Entidad:** Sonora (`CVE_ENT = 26`)\n",
    "   - **Municipio:** Hermosillo (`CVE_MUN = 30`)\n",
    "   - **Localidad:** Urbana (`CVE_LOC = 0001`)\n",
    "\n",
    "4. Guarda el resultado filtrado en formato `GeoJSON` dentro de `data/interim/geo/colonias_hmo.geojson`\n",
    "\n",
    "* **Nota**: Si se ejecuta con el parámetro `clean=True`, se eliminarán ZIP originales una vez finalizado el proceso. "
   ]
  },
  {
   "cell_type": "code",
   "execution_count": 5,
   "id": "834e0efe",
   "metadata": {},
   "outputs": [
    {
     "name": "stderr",
     "output_type": "stream",
     "text": [
      "\u001b[32m2025-10-13 13:37:40,069 - INFO - extract_colonias.py - Inicia proceso de extracción: \n",
      "\u001b[0m\n",
      "\u001b[32m2025-10-13 13:37:41,204 - INFO - utils.py - ZIP 794551132180_s.zip extraído -> data\\raw\\geo\\colonias\\794551132180_s\u001b[0m\n",
      "\u001b[32m2025-10-13 13:37:45,122 - INFO - extract_colonias.py - Archivo data\\raw\\geo\\colonias\\794551132180_s\\conjunto_de_datos\\00as.shp filtrado -> data\\interim\\geo\\colonias_hmo.geojson\u001b[0m\n",
      "\u001b[32m2025-10-13 13:37:45,227 - INFO - extract_colonias.py - Proceso de extracción completado en 5.16 s\n",
      "\u001b[0m\n"
     ]
    },
    {
     "name": "stdout",
     "output_type": "stream",
     "text": [
      "\n"
     ]
    }
   ],
   "source": [
    "# Extracción y filtrado de las colonias de Hermosillo\n",
    "colonias_hmo_path = process_extraction_colonias(clean=False)"
   ]
  },
  {
   "cell_type": "markdown",
   "id": "59826b39",
   "metadata": {},
   "source": [
    "## 5. Verificación rápida del resultado\n",
    "\n",
    "A continuación, se carga el archivo `colonias_hmo.geojson` para verificar que la estructura y los campos sean correctos. \n",
    "\n",
    "En este punto, se espera que todas las geometrías correspondan a polígonos ubicados dentro del municipio de Hermosillo, Sonora."
   ]
  },
  {
   "cell_type": "code",
   "execution_count": 6,
   "id": "579673e1",
   "metadata": {},
   "outputs": [
    {
     "data": {
      "text/html": [
       "<div>\n",
       "<style scoped>\n",
       "    .dataframe tbody tr th:only-of-type {\n",
       "        vertical-align: middle;\n",
       "    }\n",
       "\n",
       "    .dataframe tbody tr th {\n",
       "        vertical-align: top;\n",
       "    }\n",
       "\n",
       "    .dataframe thead th {\n",
       "        text-align: right;\n",
       "    }\n",
       "</style>\n",
       "<table border=\"1\" class=\"dataframe\">\n",
       "  <thead>\n",
       "    <tr style=\"text-align: right;\">\n",
       "      <th></th>\n",
       "      <th>CVEGEO</th>\n",
       "      <th>CVE_ENT</th>\n",
       "      <th>CVE_MUN</th>\n",
       "      <th>CVE_LOC</th>\n",
       "      <th>CVE_ASEN</th>\n",
       "      <th>CP</th>\n",
       "      <th>FECHA_ACT</th>\n",
       "      <th>INSTITUCIO</th>\n",
       "      <th>NOM_ASEN</th>\n",
       "      <th>TIPO</th>\n",
       "      <th>Shape_Leng</th>\n",
       "      <th>Shape_Area</th>\n",
       "      <th>geometry</th>\n",
       "    </tr>\n",
       "  </thead>\n",
       "  <tbody>\n",
       "    <tr>\n",
       "      <th>0</th>\n",
       "      <td>2603000010001</td>\n",
       "      <td>26</td>\n",
       "      <td>30</td>\n",
       "      <td>1</td>\n",
       "      <td>0001</td>\n",
       "      <td>83290</td>\n",
       "      <td>11/2021</td>\n",
       "      <td>DIRECCIÓN DE CATASTRO, HERMOSILLO</td>\n",
       "      <td>Y GRIEGA</td>\n",
       "      <td>BARRIO</td>\n",
       "      <td>3242.570807</td>\n",
       "      <td>588003.672042</td>\n",
       "      <td>POLYGON ((1628676.8721 1912677.5061, 1628689.3...</td>\n",
       "    </tr>\n",
       "    <tr>\n",
       "      <th>1</th>\n",
       "      <td>2603000010002</td>\n",
       "      <td>26</td>\n",
       "      <td>30</td>\n",
       "      <td>1</td>\n",
       "      <td>0002</td>\n",
       "      <td>83170</td>\n",
       "      <td>11/2021</td>\n",
       "      <td>DIRECCIÓN DE CATASTRO, HERMOSILLO</td>\n",
       "      <td>22 DE SEPTIEMBRE</td>\n",
       "      <td>COLONIA</td>\n",
       "      <td>1490.542076</td>\n",
       "      <td>91522.382755</td>\n",
       "      <td>POLYGON ((1625114.3645 1920744.8705, 1625108.2...</td>\n",
       "    </tr>\n",
       "    <tr>\n",
       "      <th>2</th>\n",
       "      <td>2603000010003</td>\n",
       "      <td>26</td>\n",
       "      <td>30</td>\n",
       "      <td>1</td>\n",
       "      <td>0003</td>\n",
       "      <td>83010</td>\n",
       "      <td>11/2021</td>\n",
       "      <td>DIRECCIÓN DE CATASTRO, HERMOSILLO</td>\n",
       "      <td>5 DE MAYO</td>\n",
       "      <td>COLONIA</td>\n",
       "      <td>2741.592650</td>\n",
       "      <td>412142.736606</td>\n",
       "      <td>POLYGON ((1630682.5375 1918370.9371, 1630673.8...</td>\n",
       "    </tr>\n",
       "    <tr>\n",
       "      <th>3</th>\n",
       "      <td>2603000010004</td>\n",
       "      <td>26</td>\n",
       "      <td>30</td>\n",
       "      <td>1</td>\n",
       "      <td>0004</td>\n",
       "      <td>83295</td>\n",
       "      <td>11/2021</td>\n",
       "      <td>DIRECCIÓN DE CATASTRO, HERMOSILLO</td>\n",
       "      <td>ADOLFO DE LA HUERTA</td>\n",
       "      <td>COLONIA</td>\n",
       "      <td>1894.537972</td>\n",
       "      <td>170764.281316</td>\n",
       "      <td>POLYGON ((1628569.4325 1911347.8023, 1628586.3...</td>\n",
       "    </tr>\n",
       "    <tr>\n",
       "      <th>4</th>\n",
       "      <td>2603000010005</td>\n",
       "      <td>26</td>\n",
       "      <td>30</td>\n",
       "      <td>1</td>\n",
       "      <td>0005</td>\n",
       "      <td>83170</td>\n",
       "      <td>11/2021</td>\n",
       "      <td>DIRECCIÓN DE CATASTRO, HERMOSILLO</td>\n",
       "      <td>ADOLFO LÓPEZ MATEOS</td>\n",
       "      <td>COLONIA</td>\n",
       "      <td>4004.081803</td>\n",
       "      <td>664894.362011</td>\n",
       "      <td>POLYGON ((1625720.7663 1921397.8375, 1625718.8...</td>\n",
       "    </tr>\n",
       "  </tbody>\n",
       "</table>\n",
       "</div>"
      ],
      "text/plain": [
       "          CVEGEO  CVE_ENT  CVE_MUN  CVE_LOC CVE_ASEN     CP FECHA_ACT  \\\n",
       "0  2603000010001       26       30        1     0001  83290   11/2021   \n",
       "1  2603000010002       26       30        1     0002  83170   11/2021   \n",
       "2  2603000010003       26       30        1     0003  83010   11/2021   \n",
       "3  2603000010004       26       30        1     0004  83295   11/2021   \n",
       "4  2603000010005       26       30        1     0005  83170   11/2021   \n",
       "\n",
       "                          INSTITUCIO             NOM_ASEN     TIPO  \\\n",
       "0  DIRECCIÓN DE CATASTRO, HERMOSILLO             Y GRIEGA   BARRIO   \n",
       "1  DIRECCIÓN DE CATASTRO, HERMOSILLO     22 DE SEPTIEMBRE  COLONIA   \n",
       "2  DIRECCIÓN DE CATASTRO, HERMOSILLO            5 DE MAYO  COLONIA   \n",
       "3  DIRECCIÓN DE CATASTRO, HERMOSILLO  ADOLFO DE LA HUERTA  COLONIA   \n",
       "4  DIRECCIÓN DE CATASTRO, HERMOSILLO  ADOLFO LÓPEZ MATEOS  COLONIA   \n",
       "\n",
       "    Shape_Leng     Shape_Area  \\\n",
       "0  3242.570807  588003.672042   \n",
       "1  1490.542076   91522.382755   \n",
       "2  2741.592650  412142.736606   \n",
       "3  1894.537972  170764.281316   \n",
       "4  4004.081803  664894.362011   \n",
       "\n",
       "                                            geometry  \n",
       "0  POLYGON ((1628676.8721 1912677.5061, 1628689.3...  \n",
       "1  POLYGON ((1625114.3645 1920744.8705, 1625108.2...  \n",
       "2  POLYGON ((1630682.5375 1918370.9371, 1630673.8...  \n",
       "3  POLYGON ((1628569.4325 1911347.8023, 1628586.3...  \n",
       "4  POLYGON ((1625720.7663 1921397.8375, 1625718.8...  "
      ]
     },
     "execution_count": 6,
     "metadata": {},
     "output_type": "execute_result"
    }
   ],
   "source": [
    "gdf_colonias = gpd.read_file(colonias_hmo_path)\n",
    "gdf_colonias.head()"
   ]
  },
  {
   "cell_type": "code",
   "execution_count": 9,
   "id": "9d4d9275",
   "metadata": {},
   "outputs": [
    {
     "data": {
      "text/plain": [
       "744"
      ]
     },
     "execution_count": 9,
     "metadata": {},
     "output_type": "execute_result"
    }
   ],
   "source": [
    "len(gdf_colonias)"
   ]
  },
  {
   "cell_type": "code",
   "execution_count": 11,
   "id": "8568ad0a",
   "metadata": {},
   "outputs": [
    {
     "name": "stdout",
     "output_type": "stream",
     "text": [
      "<class 'geopandas.geodataframe.GeoDataFrame'>\n",
      "RangeIndex: 744 entries, 0 to 743\n",
      "Data columns (total 13 columns):\n",
      " #   Column      Non-Null Count  Dtype   \n",
      "---  ------      --------------  -----   \n",
      " 0   CVEGEO      744 non-null    object  \n",
      " 1   CVE_ENT     744 non-null    int32   \n",
      " 2   CVE_MUN     744 non-null    int32   \n",
      " 3   CVE_LOC     744 non-null    int32   \n",
      " 4   CVE_ASEN    744 non-null    object  \n",
      " 5   CP          744 non-null    object  \n",
      " 6   FECHA_ACT   744 non-null    object  \n",
      " 7   INSTITUCIO  744 non-null    object  \n",
      " 8   NOM_ASEN    744 non-null    object  \n",
      " 9   TIPO        744 non-null    object  \n",
      " 10  Shape_Leng  744 non-null    float64 \n",
      " 11  Shape_Area  744 non-null    float64 \n",
      " 12  geometry    744 non-null    geometry\n",
      "dtypes: float64(2), geometry(1), int32(3), object(7)\n",
      "memory usage: 67.0+ KB\n"
     ]
    }
   ],
   "source": [
    "gdf_colonias.info()"
   ]
  },
  {
   "cell_type": "code",
   "execution_count": 13,
   "id": "e420a46b",
   "metadata": {},
   "outputs": [
    {
     "data": {
      "text/plain": [
       "<Axes: >"
      ]
     },
     "execution_count": 13,
     "metadata": {},
     "output_type": "execute_result"
    },
    {
     "data": {
      "image/png": "[encoded data removed]",
      "text/plain": [
       "<Figure size 640x480 with 1 Axes>"
      ]
     },
     "metadata": {},
     "output_type": "display_data"
    }
   ],
   "source": [
    "gdf_colonias['geometry'].plot(aspect='equal')\n"
   ]
  },
  {
   "cell_type": "markdown",
   "id": "a66699a9",
   "metadata": {},
   "source": [
    "## 6. Ejecución desde la terminal\n",
    "\n",
    "En caso de preferir la ejecución directa desde la terminal, los scripts pueden correrse individualmente:\n",
    "\n",
    "### 6.1 Descargar el archivo ZIP de colonias\n",
    "\n",
    "```bash\n",
    "python src/download_colonias.py\n",
    "```\n",
    "\n",
    "Guarda el archivo descargado en: `data/raw/geo/colonias`\n",
    "\n",
    "### 6.2 Extraer y foltrar las colonias de Hermosillo\n",
    "\n",
    "```bash\n",
    "python src/extract_colonias.py\n",
    "```\n",
    "\n",
    "Este comnado: \n",
    "\n",
    "* Descomprime el archivo descargado. \n",
    "* Filtra los polígonos correspondientes a Hermosillo (`CVE_ENT=26`, `CVE_MUN=30`, `CVE_LOC=0001`)\n",
    "* Guarda el resultado en formato `GeoJSON` dentro de `data/interim/geo`\n",
    "* Si se ejecuta con `clean=True` dentro del script, eliina el ZIP original tras la extracción\n",
    "\n",
    "### 6.3 Flujo completo\n",
    "\n",
    "En caso de querer correr ambos pasos consecutivamente:\n",
    "\n",
    "```bash\n",
    "python src/download_colonias.py && python src/extract_colonias.py\n",
    "```"
   ]
  },
  {
   "cell_type": "markdown",
   "id": "6cffb132",
   "metadata": {},
   "source": [
    "## 7. Conclusión\n",
    "\n",
    "En esta notebook se documentó el flujo completo de **extracción de datos geoespaciales de colonias (INEGI)**:\n",
    "\n",
    "- Se descargó el conjunto de delimitaciones geoestadísticas de colonias.  \n",
    "- Se extrajo y filtró la información correspondiente a Hermosillo, Sonora.  \n",
    "- Se generó un archivo `GeoJSON` limpio que servirá como base para el análisis espacial de baches y accidentes en zonas urbanas.\n",
    "\n",
    "Estos datos permitirán integrar la capa de colonias con los eventos de **baches reportados (Bachómetro)** y **accidentes viales (ATUS)** para la posterior correlación espacial.\n"
   ]
  }
 ],
 "metadata": {
  "kernelspec": {
   "display_name": ".venv",
   "language": "python",
   "name": "python3"
  },
  "language_info": {
   "codemirror_mode": {
    "name": "ipython",
    "version": 3
   },
   "file_extension": ".py",
   "mimetype": "text/x-python",
   "name": "python",
   "nbconvert_exporter": "python",
   "pygments_lexer": "ipython3",
   "version": "3.11.9"
  }
 },
 "nbformat": 4,
 "nbformat_minor": 5
}
