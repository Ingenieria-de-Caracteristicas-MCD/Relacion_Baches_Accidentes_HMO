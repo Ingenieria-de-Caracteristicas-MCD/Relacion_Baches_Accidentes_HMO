{
 "cells": [
  {
   "cell_type": "markdown",
   "id": "2ac732af",
   "metadata": {},
   "source": [
    "# Limpieza del conjunto de datos ATUS\n",
    "\n",
    "En esta libreta se desarrolla el proceso de **limpieza y decodificación de variables** del conjunto de datos **Accidentes de Tránsito Terrestre en Zonas Urbanas y Suburbanas (ATUS)**, publicado por el **INEGI**. Este conjunto contiene información sobre los accidentes viales registrados en México, incluyendo fecha, ubicación geográfica, tipo de accidente, causas probables, características del conductor y tipo de vía, entre otros atributos. \n",
    "\n",
    "El flujo de trabajo relacionado con estos datos se compone de tres etapas principales: \n",
    "\n",
    "* Descarga: `src/download_atus.py` - Descarga los archivos fuente desde la página oficail del INEGI. \n",
    "\n",
    "* Extracción: `src/extract_atus.py` - Extrae y organiza los archivos descargados.\n",
    "    \n",
    "    * Ingregración: `notebooks/1.1-extraccion-datos-atus.opynb` - Describe el uso y validación de los scripts anteriores, mmostrando el flujo de extracción paso a paso. \n",
    "\n",
    "\n",
    "En la presente libreta se continua con el proceso aplicando tareas de limpieza de los datos extraidos, enfocándose en: \n",
    "\n",
    "* Integración de archivos CSV individuales en un único archivo. \n",
    "* Conversion de variables numéricas a categoricas usando el diccionario de datos.\n",
    "* Eliminación de columnas irrelevantes y correccion de nombres de variables. \n",
    "\n",
    "Para realizar la decodificación de variables categoricas se utilizará el **diccionario de datos oficial** proporcionado por el INEGI que puede ser encontrado en la ruta (***). Este diccionario especifica los nombres de campo, tipos de dato, ranogs y significados de cada variable. "
   ]
  },
  {
   "cell_type": "markdown",
   "id": "201e16c1",
   "metadata": {},
   "source": [
    "## Configuración del entorno\n",
    "\n",
    "A continuación se importan las funciones y rutas necesarias para proceder coon la limpieza de los datos ATUS:  "
   ]
  },
  {
   "cell_type": "code",
   "execution_count": 1,
   "metadata": {},
   "outputs": [],
   "source": [
    "import sys\n",
    "from pathlib import Path\n",
    "\n",
    "import pandas as pd\n",
    "import geopandas as gpd"
   ]
  },
  {
   "cell_type": "code",
   "execution_count": 2,
   "id": "b6d155a4",
   "metadata": {},
   "outputs": [],
   "source": [
    "SRC_DIR = Path().resolve().parent.parent / \"src\"\n",
    "\n",
    "if str(SRC_DIR) not in sys.path: \n",
    "    sys.path.insert(0, str(SRC_DIR))"
   ]
  },
  {
   "cell_type": "code",
   "execution_count": 3,
   "id": "c6748d18",
   "metadata": {},
   "outputs": [],
   "source": [
    "from config import ROOT_DIR, RAW_DIR, INTERIM_DIR\n",
    "from extract_atus import INTERIM_ATUS_DIR"
   ]
  },
  {
   "cell_type": "markdown",
   "id": "72c4dfeb",
   "metadata": {},
   "source": [
    "Antes de comenzar con la limpieza de los datos, verificamos que las rutas de almacenamiento no estén vacías:"
   ]
  },
  {
   "cell_type": "code",
   "execution_count": 4,
   "id": "9f37be24",
   "metadata": {},
   "outputs": [
    {
     "name": "stdout",
     "output_type": "stream",
     "text": [
      "data\\interim\\atus\\BASE MUNICIPAL_ACCIDENTES DE TRANSITO GEORREFERENCIADOS_2021_HMO.csv\n",
      "data\\interim\\atus\\BASE MUNICIPAL_ACCIDENTES DE TRANSITO GEORREFERENCIADOS_2022_HMO.csv\n",
      "data\\interim\\atus\\BASE MUNICIPAL_ACCIDENTES DE TRANSITO GEORREFERENCIADOS_2023_HMO.csv\n"
     ]
    }
   ],
   "source": [
    "for item in INTERIM_ATUS_DIR.iterdir(): \n",
    "    print(item.relative_to(ROOT_DIR))"
   ]
  },
  {
   "cell_type": "markdown",
   "id": "9417acb7",
   "metadata": {},
   "source": [
    "Si los datos están presentes, podemos cargar las rutas de los archivos CSV de la siguiente manera:"
   ]
  },
  {
   "cell_type": "code",
   "execution_count": 5,
   "id": "93ff8e71",
   "metadata": {},
   "outputs": [
    {
     "name": "stdout",
     "output_type": "stream",
     "text": [
      "data\\interim\\atus\\BASE MUNICIPAL_ACCIDENTES DE TRANSITO GEORREFERENCIADOS_2021_HMO.csv\n",
      "data\\interim\\atus\\BASE MUNICIPAL_ACCIDENTES DE TRANSITO GEORREFERENCIADOS_2022_HMO.csv\n",
      "data\\interim\\atus\\BASE MUNICIPAL_ACCIDENTES DE TRANSITO GEORREFERENCIADOS_2023_HMO.csv\n"
     ]
    }
   ],
   "source": [
    "def get_all_csvs(path_base=INTERIM_ATUS_DIR):\n",
    "    return [item for item in path_base.rglob(\"*.csv\") if item.is_file()]\n",
    "\n",
    "path_csvs = get_all_csvs(INTERIM_ATUS_DIR)\n",
    "\n",
    "for csv in path_csvs: print(csv.relative_to(ROOT_DIR))"
   ]
  },
  {
   "cell_type": "markdown",
   "id": "004e58e5",
   "metadata": {},
   "source": [
    "* **Nota**: Si el directorio `data/interim/atus` está vacío, es necesario ejecutar el siguiente comando desde el directorio `src`:\n",
    "\n",
    "```bash\n",
    "python download_atus.py && python extract_atus.py\n",
    "```\n",
    "\n",
    "Este comando descargará los datos, filtrará los registros de Hermosillo y guardará el resultado en `data/interim/atus`. \n",
    "\n"
   ]
  },
  {
   "cell_type": "markdown",
   "id": "99147f75",
   "metadata": {},
   "source": [
    "## Carga y concatenación de archivos\n",
    "\n",
    "Primero, creamos una lista de DataFrames leyendo todos los archivos CSV encontrados:\n"
   ]
  },
  {
   "cell_type": "code",
   "execution_count": 6,
   "id": "c00ac38e",
   "metadata": {},
   "outputs": [],
   "source": [
    "dfs = [pd.read_csv(path_csv, index_col=0) for path_csv in path_csvs]"
   ]
  },
  {
   "cell_type": "markdown",
   "id": "620d5ae8",
   "metadata": {},
   "source": [
    "Luego, concatenamos todos los DataFrames en uno solo:"
   ]
  },
  {
   "cell_type": "code",
   "execution_count": 7,
   "id": "d5460aea",
   "metadata": {},
   "outputs": [],
   "source": [
    "df = pd.concat(dfs)"
   ]
  },
  {
   "cell_type": "markdown",
   "id": "c49551cf",
   "metadata": {},
   "source": [
    "Ahora, verificamos información general del DataFrame:"
   ]
  },
  {
   "cell_type": "code",
   "execution_count": 8,
   "id": "c044ded6",
   "metadata": {},
   "outputs": [
    {
     "name": "stdout",
     "output_type": "stream",
     "text": [
      "<class 'pandas.core.frame.DataFrame'>\n",
      "Index: 33893 entries, 173098 to 236734\n",
      "Data columns (total 50 columns):\n",
      " #   Column      Non-Null Count  Dtype  \n",
      "---  ------      --------------  -----  \n",
      " 0   ID          33893 non-null  object \n",
      " 1   EDO         33893 non-null  int64  \n",
      " 2   MES         33893 non-null  int64  \n",
      " 3   ANIO        33893 non-null  int64  \n",
      " 4   MPIO        33893 non-null  int64  \n",
      " 5   HORA        33893 non-null  int64  \n",
      " 6   MINUTOS     33893 non-null  int64  \n",
      " 7   DIA         33893 non-null  int64  \n",
      " 8   DIASEMANA   33893 non-null  int64  \n",
      " 9   URBANA      33893 non-null  int64  \n",
      " 10  SUBURBANA   33893 non-null  int64  \n",
      " 11  TIPACCID    33893 non-null  int64  \n",
      " 12  AUTOMOVIL   33893 non-null  int64  \n",
      " 13  CAMPASAJ    33893 non-null  int64  \n",
      " 14  MICROBUS    33893 non-null  int64  \n",
      " 15  PASCAMION   33893 non-null  int64  \n",
      " 16  OMNIBUS     33893 non-null  int64  \n",
      " 17  TRANVIA     33893 non-null  int64  \n",
      " 18  CAMIONETA   33893 non-null  int64  \n",
      " 19  CAMION      33893 non-null  int64  \n",
      " 20  TRACTOR     33893 non-null  int64  \n",
      " 21  FERROCARRI  33893 non-null  int64  \n",
      " 22  MOTOCICLET  33893 non-null  int64  \n",
      " 23  BICICLETA   33893 non-null  int64  \n",
      " 24  OTROVEHIC   33893 non-null  int64  \n",
      " 25  CAUSAACCI   33893 non-null  int64  \n",
      " 26  CAPAROD     33893 non-null  int64  \n",
      " 27  SEXO        33893 non-null  int64  \n",
      " 28  ALIENTO     33893 non-null  int64  \n",
      " 29  CINTURON    33893 non-null  int64  \n",
      " 30  EDAD        33893 non-null  int64  \n",
      " 31  CONDMUERTO  33893 non-null  int64  \n",
      " 32  CONDHERIDO  33893 non-null  int64  \n",
      " 33  PASAMUERTO  33893 non-null  int64  \n",
      " 34  PASAHERIDO  33893 non-null  int64  \n",
      " 35  PEATMUERTO  33893 non-null  int64  \n",
      " 36  PEATHERIDO  33893 non-null  int64  \n",
      " 37  CICLMUERTO  33893 non-null  int64  \n",
      " 38  CICLHERIDO  33893 non-null  int64  \n",
      " 39  OTROMUERTO  33893 non-null  int64  \n",
      " 40  OTROHERIDO  33893 non-null  int64  \n",
      " 41  TOTMUERTOS  33893 non-null  int64  \n",
      " 42  TOTHERIDOS  33893 non-null  int64  \n",
      " 43  CLASE       33893 non-null  int64  \n",
      " 44  CALLE1      33730 non-null  object \n",
      " 45  CALLE2      33432 non-null  object \n",
      " 46  CARRETERA   719 non-null    object \n",
      " 47  LONGITUD    33893 non-null  float64\n",
      " 48  LATITUD     33893 non-null  float64\n",
      " 49  OID         25825 non-null  float64\n",
      "dtypes: float64(3), int64(43), object(4)\n",
      "memory usage: 13.2+ MB\n"
     ]
    }
   ],
   "source": [
    "df.info()"
   ]
  },
  {
   "cell_type": "code",
   "execution_count": 9,
   "id": "c516d961",
   "metadata": {},
   "outputs": [
    {
     "data": {
      "text/html": [
       "<div>\n",
       "<style scoped>\n",
       "    .dataframe tbody tr th:only-of-type {\n",
       "        vertical-align: middle;\n",
       "    }\n",
       "\n",
       "    .dataframe tbody tr th {\n",
       "        vertical-align: top;\n",
       "    }\n",
       "\n",
       "    .dataframe thead th {\n",
       "        text-align: right;\n",
       "    }\n",
       "</style>\n",
       "<table border=\"1\" class=\"dataframe\">\n",
       "  <thead>\n",
       "    <tr style=\"text-align: right;\">\n",
       "      <th></th>\n",
       "      <th>ID</th>\n",
       "      <th>EDO</th>\n",
       "      <th>MES</th>\n",
       "      <th>ANIO</th>\n",
       "      <th>MPIO</th>\n",
       "      <th>HORA</th>\n",
       "      <th>MINUTOS</th>\n",
       "      <th>DIA</th>\n",
       "      <th>DIASEMANA</th>\n",
       "      <th>URBANA</th>\n",
       "      <th>...</th>\n",
       "      <th>OTROHERIDO</th>\n",
       "      <th>TOTMUERTOS</th>\n",
       "      <th>TOTHERIDOS</th>\n",
       "      <th>CLASE</th>\n",
       "      <th>CALLE1</th>\n",
       "      <th>CALLE2</th>\n",
       "      <th>CARRETERA</th>\n",
       "      <th>LONGITUD</th>\n",
       "      <th>LATITUD</th>\n",
       "      <th>OID</th>\n",
       "    </tr>\n",
       "  </thead>\n",
       "  <tbody>\n",
       "    <tr>\n",
       "      <th>173098</th>\n",
       "      <td>1006278-999-0</td>\n",
       "      <td>26</td>\n",
       "      <td>1</td>\n",
       "      <td>2021</td>\n",
       "      <td>30</td>\n",
       "      <td>5</td>\n",
       "      <td>0</td>\n",
       "      <td>1</td>\n",
       "      <td>5</td>\n",
       "      <td>0</td>\n",
       "      <td>...</td>\n",
       "      <td>0</td>\n",
       "      <td>0</td>\n",
       "      <td>1</td>\n",
       "      <td>2</td>\n",
       "      <td>HERMOSILLO - BAHÍA KINO</td>\n",
       "      <td>CARRETERA 100</td>\n",
       "      <td>HERMOSILLO - BAHÍA KINO</td>\n",
       "      <td>-111.175579</td>\n",
       "      <td>29.005638</td>\n",
       "      <td>NaN</td>\n",
       "    </tr>\n",
       "    <tr>\n",
       "      <th>173099</th>\n",
       "      <td>1006278-999-1</td>\n",
       "      <td>26</td>\n",
       "      <td>1</td>\n",
       "      <td>2021</td>\n",
       "      <td>30</td>\n",
       "      <td>14</td>\n",
       "      <td>55</td>\n",
       "      <td>1</td>\n",
       "      <td>5</td>\n",
       "      <td>1</td>\n",
       "      <td>...</td>\n",
       "      <td>0</td>\n",
       "      <td>0</td>\n",
       "      <td>0</td>\n",
       "      <td>3</td>\n",
       "      <td>LEY FEDERAL DEL TRABAJO</td>\n",
       "      <td>ARIZONA</td>\n",
       "      <td>NaN</td>\n",
       "      <td>-110.977345</td>\n",
       "      <td>29.118933</td>\n",
       "      <td>NaN</td>\n",
       "    </tr>\n",
       "    <tr>\n",
       "      <th>173100</th>\n",
       "      <td>1006278-999-2</td>\n",
       "      <td>26</td>\n",
       "      <td>1</td>\n",
       "      <td>2021</td>\n",
       "      <td>30</td>\n",
       "      <td>15</td>\n",
       "      <td>20</td>\n",
       "      <td>1</td>\n",
       "      <td>5</td>\n",
       "      <td>1</td>\n",
       "      <td>...</td>\n",
       "      <td>0</td>\n",
       "      <td>0</td>\n",
       "      <td>0</td>\n",
       "      <td>3</td>\n",
       "      <td>SOLIDARIDAD</td>\n",
       "      <td>RICARDO VALENCIA Y SOUZA</td>\n",
       "      <td>NaN</td>\n",
       "      <td>-110.994506</td>\n",
       "      <td>29.135785</td>\n",
       "      <td>NaN</td>\n",
       "    </tr>\n",
       "    <tr>\n",
       "      <th>173101</th>\n",
       "      <td>1006278-999-3</td>\n",
       "      <td>26</td>\n",
       "      <td>1</td>\n",
       "      <td>2021</td>\n",
       "      <td>30</td>\n",
       "      <td>22</td>\n",
       "      <td>30</td>\n",
       "      <td>1</td>\n",
       "      <td>5</td>\n",
       "      <td>1</td>\n",
       "      <td>...</td>\n",
       "      <td>0</td>\n",
       "      <td>0</td>\n",
       "      <td>0</td>\n",
       "      <td>3</td>\n",
       "      <td>TERCERA DE WISTARIA</td>\n",
       "      <td>LÁZARO MERCADO</td>\n",
       "      <td>NaN</td>\n",
       "      <td>-111.016417</td>\n",
       "      <td>29.124394</td>\n",
       "      <td>NaN</td>\n",
       "    </tr>\n",
       "    <tr>\n",
       "      <th>173102</th>\n",
       "      <td>1006278-999-5</td>\n",
       "      <td>26</td>\n",
       "      <td>1</td>\n",
       "      <td>2021</td>\n",
       "      <td>30</td>\n",
       "      <td>8</td>\n",
       "      <td>45</td>\n",
       "      <td>2</td>\n",
       "      <td>6</td>\n",
       "      <td>0</td>\n",
       "      <td>...</td>\n",
       "      <td>0</td>\n",
       "      <td>0</td>\n",
       "      <td>0</td>\n",
       "      <td>3</td>\n",
       "      <td>HERMOSILLO - BAHÍA KINO</td>\n",
       "      <td>NaN</td>\n",
       "      <td>HERMOSILLO - BAHÍA KINO</td>\n",
       "      <td>-111.115522</td>\n",
       "      <td>29.050191</td>\n",
       "      <td>NaN</td>\n",
       "    </tr>\n",
       "  </tbody>\n",
       "</table>\n",
       "<p>5 rows × 50 columns</p>\n",
       "</div>"
      ],
      "text/plain": [
       "                   ID  EDO  MES  ANIO  MPIO  HORA  MINUTOS  DIA  DIASEMANA  \\\n",
       "173098  1006278-999-0   26    1  2021    30     5        0    1          5   \n",
       "173099  1006278-999-1   26    1  2021    30    14       55    1          5   \n",
       "173100  1006278-999-2   26    1  2021    30    15       20    1          5   \n",
       "173101  1006278-999-3   26    1  2021    30    22       30    1          5   \n",
       "173102  1006278-999-5   26    1  2021    30     8       45    2          6   \n",
       "\n",
       "        URBANA  ...  OTROHERIDO  TOTMUERTOS  TOTHERIDOS  CLASE  \\\n",
       "173098       0  ...           0           0           1      2   \n",
       "173099       1  ...           0           0           0      3   \n",
       "173100       1  ...           0           0           0      3   \n",
       "173101       1  ...           0           0           0      3   \n",
       "173102       0  ...           0           0           0      3   \n",
       "\n",
       "                         CALLE1                    CALLE2  \\\n",
       "173098  HERMOSILLO - BAHÍA KINO             CARRETERA 100   \n",
       "173099  LEY FEDERAL DEL TRABAJO                   ARIZONA   \n",
       "173100              SOLIDARIDAD  RICARDO VALENCIA Y SOUZA   \n",
       "173101      TERCERA DE WISTARIA            LÁZARO MERCADO   \n",
       "173102  HERMOSILLO - BAHÍA KINO                       NaN   \n",
       "\n",
       "                      CARRETERA    LONGITUD    LATITUD  OID  \n",
       "173098  HERMOSILLO - BAHÍA KINO -111.175579  29.005638  NaN  \n",
       "173099                      NaN -110.977345  29.118933  NaN  \n",
       "173100                      NaN -110.994506  29.135785  NaN  \n",
       "173101                      NaN -111.016417  29.124394  NaN  \n",
       "173102  HERMOSILLO - BAHÍA KINO -111.115522  29.050191  NaN  \n",
       "\n",
       "[5 rows x 50 columns]"
      ]
     },
     "execution_count": 9,
     "metadata": {},
     "output_type": "execute_result"
    }
   ],
   "source": [
    "df.head()"
   ]
  },
  {
   "cell_type": "markdown",
   "id": "9f493a16",
   "metadata": {},
   "source": [
    "## Limpieza\n",
    "\n",
    "Con lo anterior, procedemos a limpiar el conjunto de datos. "
   ]
  },
  {
   "cell_type": "markdown",
   "id": "8a301676",
   "metadata": {},
   "source": [
    "El índice original no es útil, podemos eliminarlo y reemplazarlo por uno generico: "
   ]
  },
  {
   "cell_type": "code",
   "execution_count": 10,
   "id": "a3556c1d",
   "metadata": {},
   "outputs": [
    {
     "data": {
      "text/html": [
       "<div>\n",
       "<style scoped>\n",
       "    .dataframe tbody tr th:only-of-type {\n",
       "        vertical-align: middle;\n",
       "    }\n",
       "\n",
       "    .dataframe tbody tr th {\n",
       "        vertical-align: top;\n",
       "    }\n",
       "\n",
       "    .dataframe thead th {\n",
       "        text-align: right;\n",
       "    }\n",
       "</style>\n",
       "<table border=\"1\" class=\"dataframe\">\n",
       "  <thead>\n",
       "    <tr style=\"text-align: right;\">\n",
       "      <th></th>\n",
       "      <th>ID</th>\n",
       "      <th>EDO</th>\n",
       "      <th>MES</th>\n",
       "      <th>ANIO</th>\n",
       "      <th>MPIO</th>\n",
       "      <th>HORA</th>\n",
       "      <th>MINUTOS</th>\n",
       "      <th>DIA</th>\n",
       "      <th>DIASEMANA</th>\n",
       "      <th>URBANA</th>\n",
       "      <th>...</th>\n",
       "      <th>OTROHERIDO</th>\n",
       "      <th>TOTMUERTOS</th>\n",
       "      <th>TOTHERIDOS</th>\n",
       "      <th>CLASE</th>\n",
       "      <th>CALLE1</th>\n",
       "      <th>CALLE2</th>\n",
       "      <th>CARRETERA</th>\n",
       "      <th>LONGITUD</th>\n",
       "      <th>LATITUD</th>\n",
       "      <th>OID</th>\n",
       "    </tr>\n",
       "  </thead>\n",
       "  <tbody>\n",
       "    <tr>\n",
       "      <th>0</th>\n",
       "      <td>1006278-999-0</td>\n",
       "      <td>26</td>\n",
       "      <td>1</td>\n",
       "      <td>2021</td>\n",
       "      <td>30</td>\n",
       "      <td>5</td>\n",
       "      <td>0</td>\n",
       "      <td>1</td>\n",
       "      <td>5</td>\n",
       "      <td>0</td>\n",
       "      <td>...</td>\n",
       "      <td>0</td>\n",
       "      <td>0</td>\n",
       "      <td>1</td>\n",
       "      <td>2</td>\n",
       "      <td>HERMOSILLO - BAHÍA KINO</td>\n",
       "      <td>CARRETERA 100</td>\n",
       "      <td>HERMOSILLO - BAHÍA KINO</td>\n",
       "      <td>-111.175579</td>\n",
       "      <td>29.005638</td>\n",
       "      <td>NaN</td>\n",
       "    </tr>\n",
       "    <tr>\n",
       "      <th>1</th>\n",
       "      <td>1006278-999-1</td>\n",
       "      <td>26</td>\n",
       "      <td>1</td>\n",
       "      <td>2021</td>\n",
       "      <td>30</td>\n",
       "      <td>14</td>\n",
       "      <td>55</td>\n",
       "      <td>1</td>\n",
       "      <td>5</td>\n",
       "      <td>1</td>\n",
       "      <td>...</td>\n",
       "      <td>0</td>\n",
       "      <td>0</td>\n",
       "      <td>0</td>\n",
       "      <td>3</td>\n",
       "      <td>LEY FEDERAL DEL TRABAJO</td>\n",
       "      <td>ARIZONA</td>\n",
       "      <td>NaN</td>\n",
       "      <td>-110.977345</td>\n",
       "      <td>29.118933</td>\n",
       "      <td>NaN</td>\n",
       "    </tr>\n",
       "    <tr>\n",
       "      <th>2</th>\n",
       "      <td>1006278-999-2</td>\n",
       "      <td>26</td>\n",
       "      <td>1</td>\n",
       "      <td>2021</td>\n",
       "      <td>30</td>\n",
       "      <td>15</td>\n",
       "      <td>20</td>\n",
       "      <td>1</td>\n",
       "      <td>5</td>\n",
       "      <td>1</td>\n",
       "      <td>...</td>\n",
       "      <td>0</td>\n",
       "      <td>0</td>\n",
       "      <td>0</td>\n",
       "      <td>3</td>\n",
       "      <td>SOLIDARIDAD</td>\n",
       "      <td>RICARDO VALENCIA Y SOUZA</td>\n",
       "      <td>NaN</td>\n",
       "      <td>-110.994506</td>\n",
       "      <td>29.135785</td>\n",
       "      <td>NaN</td>\n",
       "    </tr>\n",
       "    <tr>\n",
       "      <th>3</th>\n",
       "      <td>1006278-999-3</td>\n",
       "      <td>26</td>\n",
       "      <td>1</td>\n",
       "      <td>2021</td>\n",
       "      <td>30</td>\n",
       "      <td>22</td>\n",
       "      <td>30</td>\n",
       "      <td>1</td>\n",
       "      <td>5</td>\n",
       "      <td>1</td>\n",
       "      <td>...</td>\n",
       "      <td>0</td>\n",
       "      <td>0</td>\n",
       "      <td>0</td>\n",
       "      <td>3</td>\n",
       "      <td>TERCERA DE WISTARIA</td>\n",
       "      <td>LÁZARO MERCADO</td>\n",
       "      <td>NaN</td>\n",
       "      <td>-111.016417</td>\n",
       "      <td>29.124394</td>\n",
       "      <td>NaN</td>\n",
       "    </tr>\n",
       "    <tr>\n",
       "      <th>4</th>\n",
       "      <td>1006278-999-5</td>\n",
       "      <td>26</td>\n",
       "      <td>1</td>\n",
       "      <td>2021</td>\n",
       "      <td>30</td>\n",
       "      <td>8</td>\n",
       "      <td>45</td>\n",
       "      <td>2</td>\n",
       "      <td>6</td>\n",
       "      <td>0</td>\n",
       "      <td>...</td>\n",
       "      <td>0</td>\n",
       "      <td>0</td>\n",
       "      <td>0</td>\n",
       "      <td>3</td>\n",
       "      <td>HERMOSILLO - BAHÍA KINO</td>\n",
       "      <td>NaN</td>\n",
       "      <td>HERMOSILLO - BAHÍA KINO</td>\n",
       "      <td>-111.115522</td>\n",
       "      <td>29.050191</td>\n",
       "      <td>NaN</td>\n",
       "    </tr>\n",
       "  </tbody>\n",
       "</table>\n",
       "<p>5 rows × 50 columns</p>\n",
       "</div>"
      ],
      "text/plain": [
       "              ID  EDO  MES  ANIO  MPIO  HORA  MINUTOS  DIA  DIASEMANA  URBANA  \\\n",
       "0  1006278-999-0   26    1  2021    30     5        0    1          5       0   \n",
       "1  1006278-999-1   26    1  2021    30    14       55    1          5       1   \n",
       "2  1006278-999-2   26    1  2021    30    15       20    1          5       1   \n",
       "3  1006278-999-3   26    1  2021    30    22       30    1          5       1   \n",
       "4  1006278-999-5   26    1  2021    30     8       45    2          6       0   \n",
       "\n",
       "   ...  OTROHERIDO  TOTMUERTOS  TOTHERIDOS  CLASE                   CALLE1  \\\n",
       "0  ...           0           0           1      2  HERMOSILLO - BAHÍA KINO   \n",
       "1  ...           0           0           0      3  LEY FEDERAL DEL TRABAJO   \n",
       "2  ...           0           0           0      3              SOLIDARIDAD   \n",
       "3  ...           0           0           0      3      TERCERA DE WISTARIA   \n",
       "4  ...           0           0           0      3  HERMOSILLO - BAHÍA KINO   \n",
       "\n",
       "                     CALLE2                CARRETERA    LONGITUD    LATITUD  \\\n",
       "0             CARRETERA 100  HERMOSILLO - BAHÍA KINO -111.175579  29.005638   \n",
       "1                   ARIZONA                      NaN -110.977345  29.118933   \n",
       "2  RICARDO VALENCIA Y SOUZA                      NaN -110.994506  29.135785   \n",
       "3            LÁZARO MERCADO                      NaN -111.016417  29.124394   \n",
       "4                       NaN  HERMOSILLO - BAHÍA KINO -111.115522  29.050191   \n",
       "\n",
       "   OID  \n",
       "0  NaN  \n",
       "1  NaN  \n",
       "2  NaN  \n",
       "3  NaN  \n",
       "4  NaN  \n",
       "\n",
       "[5 rows x 50 columns]"
      ]
     },
     "execution_count": 10,
     "metadata": {},
     "output_type": "execute_result"
    }
   ],
   "source": [
    "df.reset_index(inplace=True, drop=True)\n",
    "df.head()"
   ]
  },
  {
   "cell_type": "markdown",
   "id": "800e1c57",
   "metadata": {},
   "source": [
    "Las columnas se encuentran en mayúsculas, las transoformamos a minúsculas: "
   ]
  },
  {
   "cell_type": "code",
   "execution_count": 11,
   "id": "ab122185",
   "metadata": {},
   "outputs": [
    {
     "data": {
      "text/html": [
       "<div>\n",
       "<style scoped>\n",
       "    .dataframe tbody tr th:only-of-type {\n",
       "        vertical-align: middle;\n",
       "    }\n",
       "\n",
       "    .dataframe tbody tr th {\n",
       "        vertical-align: top;\n",
       "    }\n",
       "\n",
       "    .dataframe thead th {\n",
       "        text-align: right;\n",
       "    }\n",
       "</style>\n",
       "<table border=\"1\" class=\"dataframe\">\n",
       "  <thead>\n",
       "    <tr style=\"text-align: right;\">\n",
       "      <th></th>\n",
       "      <th>id</th>\n",
       "      <th>edo</th>\n",
       "      <th>mes</th>\n",
       "      <th>anio</th>\n",
       "      <th>mpio</th>\n",
       "      <th>hora</th>\n",
       "      <th>minutos</th>\n",
       "      <th>dia</th>\n",
       "      <th>diasemana</th>\n",
       "      <th>urbana</th>\n",
       "      <th>...</th>\n",
       "      <th>otroherido</th>\n",
       "      <th>totmuertos</th>\n",
       "      <th>totheridos</th>\n",
       "      <th>clase</th>\n",
       "      <th>calle1</th>\n",
       "      <th>calle2</th>\n",
       "      <th>carretera</th>\n",
       "      <th>longitud</th>\n",
       "      <th>latitud</th>\n",
       "      <th>oid</th>\n",
       "    </tr>\n",
       "  </thead>\n",
       "  <tbody>\n",
       "    <tr>\n",
       "      <th>0</th>\n",
       "      <td>1006278-999-0</td>\n",
       "      <td>26</td>\n",
       "      <td>1</td>\n",
       "      <td>2021</td>\n",
       "      <td>30</td>\n",
       "      <td>5</td>\n",
       "      <td>0</td>\n",
       "      <td>1</td>\n",
       "      <td>5</td>\n",
       "      <td>0</td>\n",
       "      <td>...</td>\n",
       "      <td>0</td>\n",
       "      <td>0</td>\n",
       "      <td>1</td>\n",
       "      <td>2</td>\n",
       "      <td>HERMOSILLO - BAHÍA KINO</td>\n",
       "      <td>CARRETERA 100</td>\n",
       "      <td>HERMOSILLO - BAHÍA KINO</td>\n",
       "      <td>-111.175579</td>\n",
       "      <td>29.005638</td>\n",
       "      <td>NaN</td>\n",
       "    </tr>\n",
       "    <tr>\n",
       "      <th>1</th>\n",
       "      <td>1006278-999-1</td>\n",
       "      <td>26</td>\n",
       "      <td>1</td>\n",
       "      <td>2021</td>\n",
       "      <td>30</td>\n",
       "      <td>14</td>\n",
       "      <td>55</td>\n",
       "      <td>1</td>\n",
       "      <td>5</td>\n",
       "      <td>1</td>\n",
       "      <td>...</td>\n",
       "      <td>0</td>\n",
       "      <td>0</td>\n",
       "      <td>0</td>\n",
       "      <td>3</td>\n",
       "      <td>LEY FEDERAL DEL TRABAJO</td>\n",
       "      <td>ARIZONA</td>\n",
       "      <td>NaN</td>\n",
       "      <td>-110.977345</td>\n",
       "      <td>29.118933</td>\n",
       "      <td>NaN</td>\n",
       "    </tr>\n",
       "    <tr>\n",
       "      <th>2</th>\n",
       "      <td>1006278-999-2</td>\n",
       "      <td>26</td>\n",
       "      <td>1</td>\n",
       "      <td>2021</td>\n",
       "      <td>30</td>\n",
       "      <td>15</td>\n",
       "      <td>20</td>\n",
       "      <td>1</td>\n",
       "      <td>5</td>\n",
       "      <td>1</td>\n",
       "      <td>...</td>\n",
       "      <td>0</td>\n",
       "      <td>0</td>\n",
       "      <td>0</td>\n",
       "      <td>3</td>\n",
       "      <td>SOLIDARIDAD</td>\n",
       "      <td>RICARDO VALENCIA Y SOUZA</td>\n",
       "      <td>NaN</td>\n",
       "      <td>-110.994506</td>\n",
       "      <td>29.135785</td>\n",
       "      <td>NaN</td>\n",
       "    </tr>\n",
       "    <tr>\n",
       "      <th>3</th>\n",
       "      <td>1006278-999-3</td>\n",
       "      <td>26</td>\n",
       "      <td>1</td>\n",
       "      <td>2021</td>\n",
       "      <td>30</td>\n",
       "      <td>22</td>\n",
       "      <td>30</td>\n",
       "      <td>1</td>\n",
       "      <td>5</td>\n",
       "      <td>1</td>\n",
       "      <td>...</td>\n",
       "      <td>0</td>\n",
       "      <td>0</td>\n",
       "      <td>0</td>\n",
       "      <td>3</td>\n",
       "      <td>TERCERA DE WISTARIA</td>\n",
       "      <td>LÁZARO MERCADO</td>\n",
       "      <td>NaN</td>\n",
       "      <td>-111.016417</td>\n",
       "      <td>29.124394</td>\n",
       "      <td>NaN</td>\n",
       "    </tr>\n",
       "    <tr>\n",
       "      <th>4</th>\n",
       "      <td>1006278-999-5</td>\n",
       "      <td>26</td>\n",
       "      <td>1</td>\n",
       "      <td>2021</td>\n",
       "      <td>30</td>\n",
       "      <td>8</td>\n",
       "      <td>45</td>\n",
       "      <td>2</td>\n",
       "      <td>6</td>\n",
       "      <td>0</td>\n",
       "      <td>...</td>\n",
       "      <td>0</td>\n",
       "      <td>0</td>\n",
       "      <td>0</td>\n",
       "      <td>3</td>\n",
       "      <td>HERMOSILLO - BAHÍA KINO</td>\n",
       "      <td>NaN</td>\n",
       "      <td>HERMOSILLO - BAHÍA KINO</td>\n",
       "      <td>-111.115522</td>\n",
       "      <td>29.050191</td>\n",
       "      <td>NaN</td>\n",
       "    </tr>\n",
       "  </tbody>\n",
       "</table>\n",
       "<p>5 rows × 50 columns</p>\n",
       "</div>"
      ],
      "text/plain": [
       "              id  edo  mes  anio  mpio  hora  minutos  dia  diasemana  urbana  \\\n",
       "0  1006278-999-0   26    1  2021    30     5        0    1          5       0   \n",
       "1  1006278-999-1   26    1  2021    30    14       55    1          5       1   \n",
       "2  1006278-999-2   26    1  2021    30    15       20    1          5       1   \n",
       "3  1006278-999-3   26    1  2021    30    22       30    1          5       1   \n",
       "4  1006278-999-5   26    1  2021    30     8       45    2          6       0   \n",
       "\n",
       "   ...  otroherido  totmuertos  totheridos  clase                   calle1  \\\n",
       "0  ...           0           0           1      2  HERMOSILLO - BAHÍA KINO   \n",
       "1  ...           0           0           0      3  LEY FEDERAL DEL TRABAJO   \n",
       "2  ...           0           0           0      3              SOLIDARIDAD   \n",
       "3  ...           0           0           0      3      TERCERA DE WISTARIA   \n",
       "4  ...           0           0           0      3  HERMOSILLO - BAHÍA KINO   \n",
       "\n",
       "                     calle2                carretera    longitud    latitud  \\\n",
       "0             CARRETERA 100  HERMOSILLO - BAHÍA KINO -111.175579  29.005638   \n",
       "1                   ARIZONA                      NaN -110.977345  29.118933   \n",
       "2  RICARDO VALENCIA Y SOUZA                      NaN -110.994506  29.135785   \n",
       "3            LÁZARO MERCADO                      NaN -111.016417  29.124394   \n",
       "4                       NaN  HERMOSILLO - BAHÍA KINO -111.115522  29.050191   \n",
       "\n",
       "   oid  \n",
       "0  NaN  \n",
       "1  NaN  \n",
       "2  NaN  \n",
       "3  NaN  \n",
       "4  NaN  \n",
       "\n",
       "[5 rows x 50 columns]"
      ]
     },
     "execution_count": 11,
     "metadata": {},
     "output_type": "execute_result"
    }
   ],
   "source": [
    "df.columns = df.columns.str.lower()\n",
    "df.head()"
   ]
  },
  {
   "cell_type": "markdown",
   "id": "7db41577",
   "metadata": {},
   "source": [
    "Las columnas `edo` y `mio` corresponden al estado y municipio respectivamente. Como los datos corresponden a Hermosillo, Sonora es redundante que estén presentes en el DataFrame. Podemos eliminarlas: "
   ]
  },
  {
   "cell_type": "code",
   "execution_count": 12,
   "id": "c40750da",
   "metadata": {},
   "outputs": [],
   "source": [
    "df.drop(columns=['edo', 'mpio'], inplace=True)"
   ]
  },
  {
   "cell_type": "markdown",
   "id": "40104cef",
   "metadata": {},
   "source": [
    "Dado que tenemos columnas separadas para el año, mes, día, hora y minutos en los que ocurrió cada accidente, podemos combinarlas en una sola columna de tipo *timestamp*: "
   ]
  },
  {
   "cell_type": "code",
   "execution_count": 13,
   "id": "e1a4d063",
   "metadata": {},
   "outputs": [
    {
     "data": {
      "text/plain": [
       "0   2021-01-01 05:00:00\n",
       "1   2021-01-01 14:55:00\n",
       "2   2021-01-01 15:20:00\n",
       "3   2021-01-01 22:30:00\n",
       "4   2021-01-02 08:45:00\n",
       "Name: datetime, dtype: datetime64[ns]"
      ]
     },
     "execution_count": 13,
     "metadata": {},
     "output_type": "execute_result"
    }
   ],
   "source": [
    "df['datetime'] = pd.to_datetime(\n",
    "    df['anio'].astype(str) + '-' +\n",
    "    df['mes'].astype(str).str.zfill(2) + '-' +\n",
    "    df['dia'].astype(str).str.zfill(2) + ' ' +\n",
    "    df['hora'].astype(str).str.zfill(2) + ':' +\n",
    "    df['minutos'].astype(str).str.zfill(2)\n",
    ")\n",
    "df.datetime.head()"
   ]
  },
  {
   "cell_type": "markdown",
   "id": "77009ae3",
   "metadata": {},
   "source": [
    "### Decodificación\n",
    "\n",
    "En lo que sigue se exploran las variables categóricas del conjunto de datos. El objetivo es **reempplazar sus valores numéricos por etiquetas descriptivas** seg´un el diccionario deatos proporcionado por el INEGI disponible en la ruta (***). \n",
    "\n",
    "Para cada variable se implementa una función que convierte la vairbale numérica en categorica usando el diccionario de datos y se prueba su funcionamiento. "
   ]
  },
  {
   "cell_type": "markdown",
   "id": "3df80f69",
   "metadata": {},
   "source": [
    "La variable `diasemana` reprecenta el día de la semana en la que ocurrio el accidente:"
   ]
  },
  {
   "cell_type": "code",
   "execution_count": 14,
   "id": "67dfdaf5",
   "metadata": {},
   "outputs": [
    {
     "data": {
      "text/plain": [
       "array([5, 6, 7, 1, 2, 3, 4])"
      ]
     },
     "execution_count": 14,
     "metadata": {},
     "output_type": "execute_result"
    }
   ],
   "source": [
    "df.diasemana.unique()"
   ]
  },
  {
   "cell_type": "code",
   "execution_count": null,
   "id": "fc21aa31",
   "metadata": {},
   "outputs": [],
   "source": [
    "def decode_dia_semana(valor):\n",
    "    dias = {\n",
    "        1: \"lunes\", 2: \"martes\", 3: \"miércoles\", 4: \"jueves\",\n",
    "        5: \"viernes\", 6: \"sábado\", 7: \"domingo\"\n",
    "    }\n",
    "    return dias.get(valor)"
   ]
  },
  {
   "cell_type": "code",
   "execution_count": 16,
   "id": "070dab2f",
   "metadata": {},
   "outputs": [
    {
     "data": {
      "text/plain": [
       "array(['viernes', 'sábado', 'domingo', 'lunes', 'martes', 'miércoles',\n",
       "       'jueves'], dtype=object)"
      ]
     },
     "execution_count": 16,
     "metadata": {},
     "output_type": "execute_result"
    }
   ],
   "source": [
    "df['diasemana'] = df['diasemana'].apply(decode_dia_semana)\n",
    "df.diasemana.unique()"
   ]
  },
  {
   "cell_type": "markdown",
   "id": "3997b013",
   "metadata": {},
   "source": [
    "La variable `urbana` indica el tipo de zona urbana donde ocurrió el accidente:\n",
    "\n",
    "Según el diccionario de datos: \n",
    "\n",
    "* 0 = Zona suburbana\n",
    "* 1 = Intersección\n",
    "* 2 = No intersección"
   ]
  },
  {
   "cell_type": "code",
   "execution_count": 17,
   "id": "f4614d4c",
   "metadata": {},
   "outputs": [
    {
     "data": {
      "text/plain": [
       "array([0, 1, 2])"
      ]
     },
     "execution_count": 17,
     "metadata": {},
     "output_type": "execute_result"
    }
   ],
   "source": [
    "df.urbana.unique()"
   ]
  },
  {
   "cell_type": "code",
   "execution_count": null,
   "id": "6f3cf395",
   "metadata": {},
   "outputs": [],
   "source": [
    "def decode_zona_urbana(valor):\n",
    "    zonas = {0: \"suburbana\", 1: \"intersección\", 2: \"no intersección\"}\n",
    "    return zonas.get(valor)"
   ]
  },
  {
   "cell_type": "code",
   "execution_count": 19,
   "id": "fe51df42",
   "metadata": {},
   "outputs": [
    {
     "data": {
      "text/plain": [
       "array(['suburbana', 'intersección', 'no intersección'], dtype=object)"
      ]
     },
     "execution_count": 19,
     "metadata": {},
     "output_type": "execute_result"
    }
   ],
   "source": [
    "df['urbana'] = df['urbana'].apply(decode_zona_urbana)\n",
    "df.urbana.unique()"
   ]
  },
  {
   "cell_type": "markdown",
   "id": "edfcf0ab",
   "metadata": {},
   "source": [
    "La variable `suburbana` describe el tipo de zona suburbana del accidente.\n",
    "\n",
    "Según el diccionario:\n",
    "\n",
    "* 0 = Urbana\n",
    "* 1 = Camino rural\n",
    "* 2 = Carretera estatal\n",
    "* 3 = Otro camino"
   ]
  },
  {
   "cell_type": "code",
   "execution_count": 20,
   "id": "4e4b8e84",
   "metadata": {},
   "outputs": [
    {
     "data": {
      "text/plain": [
       "array([2, 0, 1])"
      ]
     },
     "execution_count": 20,
     "metadata": {},
     "output_type": "execute_result"
    }
   ],
   "source": [
    "df.suburbana.unique()"
   ]
  },
  {
   "cell_type": "code",
   "execution_count": 21,
   "id": "2c6bdb72",
   "metadata": {},
   "outputs": [],
   "source": [
    "def decode_zona_suburbana(valor):\n",
    "    zonas = {\n",
    "        0: \"urbana\", 1: \"camino rural\",\n",
    "        2: \"carretera estatal\", 3: \"otro camino\"\n",
    "    }\n",
    "    return zonas.get(valor)"
   ]
  },
  {
   "cell_type": "code",
   "execution_count": 22,
   "id": "1be8e136",
   "metadata": {},
   "outputs": [
    {
     "data": {
      "text/plain": [
       "array(['carretera estatal', 'urbana', 'camino rural'], dtype=object)"
      ]
     },
     "execution_count": 22,
     "metadata": {},
     "output_type": "execute_result"
    }
   ],
   "source": [
    "df['suburbana'] = df['suburbana'].apply(decode_zona_suburbana)\n",
    "df.suburbana.unique()"
   ]
  },
  {
   "cell_type": "markdown",
   "id": "dd462bce",
   "metadata": {},
   "source": [
    "La variable `tipaccid` identifica el tipo de accidente registrado.\n",
    "\n",
    "De acuerdo con el diccionario:\n",
    "\n",
    "* 1 = Colisión con vehículo automotor\n",
    "* 2 = Atropellamiento\n",
    "* 3 = Colisión con animal\n",
    "* 4 = Colisión con objeto fijo\n",
    "* 5 = Volcadura\n",
    "* 6 = Caída de pasajero\n",
    "* 7 = Salida del camino\n",
    "* 8 = Incendio\n",
    "* 9 = Colisión con ferrocarril\n",
    "* 10 = Colisión con motocicleta\n",
    "* 11 = Colisión con ciclista\n",
    "* 12 = Otro\n"
   ]
  },
  {
   "cell_type": "code",
   "execution_count": 23,
   "id": "337eceb4",
   "metadata": {},
   "outputs": [
    {
     "data": {
      "text/plain": [
       "array([ 3,  1,  4, 10,  2,  5, 11,  6,  7, 12,  9])"
      ]
     },
     "execution_count": 23,
     "metadata": {},
     "output_type": "execute_result"
    }
   ],
   "source": [
    "df.tipaccid.unique()"
   ]
  },
  {
   "cell_type": "code",
   "execution_count": 24,
   "id": "fa3b5281",
   "metadata": {},
   "outputs": [],
   "source": [
    "def decode_tipo_accidente(valor):\n",
    "    tipos = {\n",
    "        0: \"certificado cero\",\n",
    "        1: \"colisión con vehículo automotor\",\n",
    "        2: \"atropellamiento\",\n",
    "        3: \"colisión con animal\",\n",
    "        4: \"colisión con objeto fijo\",\n",
    "        5: \"volcadura\",\n",
    "        6: \"caída de pasajero\",\n",
    "        7: \"salida del camino\",\n",
    "        8: \"incendio\",\n",
    "        9: \"colisión con ferrocarril\",\n",
    "        10: \"colisión con motocicleta\",\n",
    "        11: \"colisión con ciclista\",\n",
    "        12: \"otro\"\n",
    "    }\n",
    "    return tipos.get(valor)"
   ]
  },
  {
   "cell_type": "code",
   "execution_count": 25,
   "id": "16e3d5ba",
   "metadata": {},
   "outputs": [
    {
     "data": {
      "text/plain": [
       "array(['colisión con animal', 'colisión con vehículo automotor',\n",
       "       'colisión con objeto fijo', 'colisión con motocicleta',\n",
       "       'atropellamiento', 'volcadura', 'colisión con ciclista',\n",
       "       'caída de pasajero', 'salida del camino', 'otro',\n",
       "       'colisión con ferrocarril'], dtype=object)"
      ]
     },
     "execution_count": 25,
     "metadata": {},
     "output_type": "execute_result"
    }
   ],
   "source": [
    "df['tipaccid'] = df['tipaccid'].apply(decode_tipo_accidente)\n",
    "df.tipaccid.unique()"
   ]
  },
  {
   "cell_type": "markdown",
   "id": "4fa02198",
   "metadata": {},
   "source": [
    "La variable `causaacci` indica la causa probable o presunta del accidente.\n",
    "\n",
    "Según el diccionario:\n",
    "\n",
    "* 1 = Conductor\n",
    "* 2 = Peatón o pasajero\n",
    "* 3 = Falla del vehículo\n",
    "* 4 = Mala condición del camino\n",
    "* 5 = Otra\n"
   ]
  },
  {
   "cell_type": "code",
   "execution_count": 26,
   "id": "f98f1791",
   "metadata": {},
   "outputs": [
    {
     "data": {
      "text/plain": [
       "array([1, 2, 3])"
      ]
     },
     "execution_count": 26,
     "metadata": {},
     "output_type": "execute_result"
    }
   ],
   "source": [
    "df.causaacci.unique()"
   ]
  },
  {
   "cell_type": "code",
   "execution_count": 27,
   "id": "b3c89a9c",
   "metadata": {},
   "outputs": [],
   "source": [
    "def decode_causa_accidente(valor):\n",
    "    causas = {\n",
    "        1: \"conductor\", 2: \"peatón/pasajero\",\n",
    "        3: \"falla del vehículo\", 4: \"mala condición del camino\", 5: \"otra\"\n",
    "    }\n",
    "    return causas.get(valor)"
   ]
  },
  {
   "cell_type": "code",
   "execution_count": 28,
   "id": "27b743d0",
   "metadata": {},
   "outputs": [
    {
     "data": {
      "text/plain": [
       "array(['conductor', 'peatón/pasajero', 'falla del vehículo'], dtype=object)"
      ]
     },
     "execution_count": 28,
     "metadata": {},
     "output_type": "execute_result"
    }
   ],
   "source": [
    "df['causaacci'] = df['causaacci'].apply(decode_causa_accidente)\n",
    "df.causaacci.unique()"
   ]
  },
  {
   "cell_type": "markdown",
   "id": "6a9ff4c7",
   "metadata": {},
   "source": [
    "La variable `caparod` señala la condición de la superficie del camino.\n",
    "\n",
    "Valores posibles:\n",
    "\n",
    "* 1 = Pavimentada\n",
    "* 2 = No pavimentada\n",
    "\n"
   ]
  },
  {
   "cell_type": "code",
   "execution_count": 29,
   "id": "639d5250",
   "metadata": {},
   "outputs": [
    {
     "data": {
      "text/plain": [
       "array([1, 2])"
      ]
     },
     "execution_count": 29,
     "metadata": {},
     "output_type": "execute_result"
    }
   ],
   "source": [
    "df.caparod.unique()"
   ]
  },
  {
   "cell_type": "code",
   "execution_count": 30,
   "id": "cda004ca",
   "metadata": {},
   "outputs": [],
   "source": [
    "def decode_capa_rodamiento(valor):\n",
    "    capas = {1: \"pavimentada\", 2: \"no pavimentada\"}\n",
    "    return capas.get(valor)"
   ]
  },
  {
   "cell_type": "code",
   "execution_count": 31,
   "id": "105567e0",
   "metadata": {},
   "outputs": [
    {
     "data": {
      "text/plain": [
       "array(['pavimentada', 'no pavimentada'], dtype=object)"
      ]
     },
     "execution_count": 31,
     "metadata": {},
     "output_type": "execute_result"
    }
   ],
   "source": [
    "df['caparod'] = df['caparod'].apply(decode_capa_rodamiento)\n",
    "df.caparod.unique()"
   ]
  },
  {
   "cell_type": "markdown",
   "id": "91c5bf74",
   "metadata": {},
   "source": [
    "La variable `sexo` representa el sexo del conductor presunto responsable.\n",
    "\n",
    "Valores:\n",
    "\n",
    "* 1 = Se fugó\n",
    "* 2 = Hombre\n",
    "* 3 = Mujer\n",
    "\n"
   ]
  },
  {
   "cell_type": "code",
   "execution_count": 32,
   "id": "2dfe65d2",
   "metadata": {},
   "outputs": [
    {
     "data": {
      "text/plain": [
       "array([2, 3, 1])"
      ]
     },
     "execution_count": 32,
     "metadata": {},
     "output_type": "execute_result"
    }
   ],
   "source": [
    "df.sexo.unique()"
   ]
  },
  {
   "cell_type": "code",
   "execution_count": 33,
   "id": "cb95ddb1",
   "metadata": {},
   "outputs": [],
   "source": [
    "def decode_sexo(valor):\n",
    "    sexos = {1: \"se fugó\", 2: \"hombre\", 3: \"mujer\"}\n",
    "    return sexos.get(valor)"
   ]
  },
  {
   "cell_type": "code",
   "execution_count": 34,
   "id": "090c9e8e",
   "metadata": {},
   "outputs": [
    {
     "data": {
      "text/plain": [
       "array(['hombre', 'mujer', 'se fugó'], dtype=object)"
      ]
     },
     "execution_count": 34,
     "metadata": {},
     "output_type": "execute_result"
    }
   ],
   "source": [
    "df['sexo'] = df['sexo'].apply(decode_sexo)\n",
    "df.sexo.unique()"
   ]
  },
  {
   "cell_type": "markdown",
   "id": "4218cc9e",
   "metadata": {},
   "source": [
    "La variable `aliento` indica si el conductor presentaba aliento alcohólico.\n",
    "\n",
    "Según el diccionario:\n",
    "\n",
    "* 4 = Sí\n",
    "* 5 = No\n",
    "* 6 = Se ignora"
   ]
  },
  {
   "cell_type": "code",
   "execution_count": 35,
   "id": "d8c38692",
   "metadata": {},
   "outputs": [
    {
     "data": {
      "text/plain": [
       "array([5, 6, 4])"
      ]
     },
     "execution_count": 35,
     "metadata": {},
     "output_type": "execute_result"
    }
   ],
   "source": [
    "df.aliento.unique()"
   ]
  },
  {
   "cell_type": "code",
   "execution_count": 36,
   "id": "6ccb8256",
   "metadata": {},
   "outputs": [],
   "source": [
    "def decode_aliento(valor):\n",
    "    aliento = {4: \"sí\", 5: \"no\", 6: \"se ignora\"}\n",
    "    return aliento.get(valor)"
   ]
  },
  {
   "cell_type": "code",
   "execution_count": 37,
   "id": "539e092a",
   "metadata": {},
   "outputs": [
    {
     "data": {
      "text/plain": [
       "array(['no', 'se ignora', 'sí'], dtype=object)"
      ]
     },
     "execution_count": 37,
     "metadata": {},
     "output_type": "execute_result"
    }
   ],
   "source": [
    "df['aliento'] = df['aliento'].apply(decode_aliento)\n",
    "df.aliento.unique()"
   ]
  },
  {
   "cell_type": "markdown",
   "id": "1a5b54e5",
   "metadata": {},
   "source": [
    "La variable `cinturon` representa el uso del cinturón de seguridad.\n",
    "\n",
    "De acuerdo con el diccionario:\n",
    "\n",
    "* 7 = Sí\n",
    "* 8 = No\n",
    "* 9 = Se ignora"
   ]
  },
  {
   "cell_type": "code",
   "execution_count": 39,
   "id": "15041bab",
   "metadata": {},
   "outputs": [
    {
     "data": {
      "text/plain": [
       "array([8, 7, 9])"
      ]
     },
     "execution_count": 39,
     "metadata": {},
     "output_type": "execute_result"
    }
   ],
   "source": [
    "df.cinturon.unique()"
   ]
  },
  {
   "cell_type": "code",
   "execution_count": null,
   "id": "4a0128ca",
   "metadata": {},
   "outputs": [],
   "source": [
    "def decode_cinturon(valor):\n",
    "    cinturon = {7: \"sí\", 8: \"no\", 9: \"se ignora\"}\n",
    "    return cinturon.get(valor)"
   ]
  },
  {
   "cell_type": "code",
   "execution_count": 41,
   "id": "1d1f98b7",
   "metadata": {},
   "outputs": [
    {
     "data": {
      "text/plain": [
       "array(['no', 'sí', 'se ignora'], dtype=object)"
      ]
     },
     "execution_count": 41,
     "metadata": {},
     "output_type": "execute_result"
    }
   ],
   "source": [
    "df['cinturon'] = df['cinturon'].apply(decode_cinturon)\n",
    "df.cinturon.unique()"
   ]
  },
  {
   "cell_type": "markdown",
   "id": "e3ff54f4",
   "metadata": {},
   "source": [
    "La variable `clase` clasifica la gravedad del accidente.\n",
    "\n",
    "Valores posibles:\n",
    "\n",
    "* 1 = Fatal\n",
    "* 2 = No fatal\n",
    "* 3 = Solo daños"
   ]
  },
  {
   "cell_type": "code",
   "execution_count": 42,
   "id": "6c2e0dac",
   "metadata": {},
   "outputs": [
    {
     "data": {
      "text/plain": [
       "array([2, 3, 1])"
      ]
     },
     "execution_count": 42,
     "metadata": {},
     "output_type": "execute_result"
    }
   ],
   "source": [
    "df.clase.unique()"
   ]
  },
  {
   "cell_type": "code",
   "execution_count": 43,
   "metadata": {},
   "outputs": [],
   "source": [
    "def decode_clase_accidente(valor):\n",
    "    clases = {1: \"fatal\", 2: \"no fatal\", 3: \"solo daños\"}\n",
    "    return clases.get(valor)"
   ]
  },
  {
   "cell_type": "code",
   "execution_count": 44,
   "id": "b47159dd",
   "metadata": {},
   "outputs": [
    {
     "data": {
      "text/plain": [
       "array(['no fatal', 'solo daños', 'fatal'], dtype=object)"
      ]
     },
     "execution_count": 44,
     "metadata": {},
     "output_type": "execute_result"
    }
   ],
   "source": [
    "df['clase'] = df['clase'].apply(decode_clase_accidente)\n",
    "df.clase.unique()"
   ]
  },
  {
   "cell_type": "markdown",
   "id": "222f4d4d",
   "metadata": {},
   "source": [
    "El siguiente paso es formalizar las transformaciones aquí descritas dentro del un scrip de limpieza, `src/clean_atus.py`, donde se integrarán las funciones de limpieza y decodificación del conjunto de datos. De esta forma, el proceso podrá ejecutarse de manera automatizada y reproducible, ya sea desde la terminal o como parte del flujo de procesamiento. "
   ]
  }
 ],
 "metadata": {
  "kernelspec": {
   "display_name": ".venv",
   "language": "python",
   "name": "python3"
  },
  "language_info": {
   "codemirror_mode": {
    "name": "ipython",
    "version": 3
   },
   "file_extension": ".py",
   "mimetype": "text/x-python",
   "name": "python",
   "nbconvert_exporter": "python",
   "pygments_lexer": "ipython3",
   "version": "3.11.9"
  }
 },
 "nbformat": 4,
 "nbformat_minor": 5
}
