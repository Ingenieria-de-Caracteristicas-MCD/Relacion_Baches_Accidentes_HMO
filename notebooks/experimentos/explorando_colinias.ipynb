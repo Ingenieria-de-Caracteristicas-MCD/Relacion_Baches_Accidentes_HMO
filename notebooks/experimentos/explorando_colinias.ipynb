{
 "cells": [
  {
   "cell_type": "markdown",
   "id": "190f8204",
   "metadata": {},
   "source": [
    "# Explorando datos geográficos\n",
    "\n",
    "contexto..."
   ]
  },
  {
   "cell_type": "markdown",
   "id": "37d1b3b7",
   "metadata": {},
   "source": [
    "## 0 Configuración del entorno"
   ]
  },
  {
   "cell_type": "code",
   "execution_count": 1,
   "id": "ebd095e8",
   "metadata": {},
   "outputs": [],
   "source": [
    "import zipfile\n",
    "import sys\n",
    "from pathlib import Path\n",
    "\n",
    "import requests\n",
    "import pandas as pd\n",
    "import geopandas as gpd"
   ]
  },
  {
   "cell_type": "code",
   "execution_count": 2,
   "id": "00002b00",
   "metadata": {},
   "outputs": [],
   "source": [
    "ROOT_DIR = Path().resolve().parent\n",
    "\n",
    "if str(ROOT_DIR) not in sys.path: \n",
    "    sys.path.insert(0, str(ROOT_DIR))"
   ]
  },
  {
   "cell_type": "code",
   "execution_count": 3,
   "id": "a271e474",
   "metadata": {},
   "outputs": [],
   "source": [
    "from src.config import DATA_DIR, RAW_DIR"
   ]
  },
  {
   "cell_type": "code",
   "execution_count": 4,
   "id": "7fb3e0eb",
   "metadata": {},
   "outputs": [],
   "source": [
    "GEO_DIR = RAW_DIR / \"geo\"\n",
    "GEO_DIR.mkdir(exist_ok=True)"
   ]
  },
  {
   "cell_type": "markdown",
   "id": "12d7f2a6",
   "metadata": {},
   "source": [
    "## 1 Polígonos de las colonias en Hermosillo\n",
    "\n",
    "contexto..."
   ]
  },
  {
   "cell_type": "code",
   "execution_count": 5,
   "id": "b03b5a63",
   "metadata": {},
   "outputs": [],
   "source": [
    "url_colonias = r\"https://www.inegi.org.mx/contenidos/productos/prod_serv/contenidos/espanol/bvinegi/productos/geografia/delimitaciones/794551132180_s.zip\""
   ]
  },
  {
   "cell_type": "code",
   "execution_count": 6,
   "id": "3de5b812",
   "metadata": {},
   "outputs": [
    {
     "name": "stdout",
     "output_type": "stream",
     "text": [
      "Cache-Control must-revalidate,max-age=10\n",
      "Content-Type application/x-zip-compressed\n",
      "Last-Modified Tue, 17 Dec 2024 21:53:00 GMT\n",
      "Accept-Ranges bytes\n",
      "ETag \"8ddd46ace50db1:0\"\n",
      "Server Microsoft-IIS/10.0\n",
      "X-Powered-By ASP.NET\n",
      "Date Sat, 11 Oct 2025 23:54:29 GMT\n",
      "Content-Length 71610306\n",
      "Set-Cookie BIGipServerLB_contenidos2=1164235274.37407.0000; expires=Sun, 12-Oct-2025 00:14:29 GMT; path=/; Httponly; Secure\n"
     ]
    }
   ],
   "source": [
    "r_colonias = requests.get(url_colonias)\n",
    "for k, v in r_colonias.headers.items(): print(k, v)"
   ]
  },
  {
   "cell_type": "markdown",
   "id": "dfbdeef8",
   "metadata": {},
   "source": [
    "Nótese que el archivo geojson es bastante pesado (+60 mb), por lo que conviene descargarlo en partes:"
   ]
  },
  {
   "cell_type": "code",
   "execution_count": 7,
   "id": "8bc3a1e9",
   "metadata": {},
   "outputs": [],
   "source": [
    "path_colonias = GEO_DIR / \"colonias\"\n",
    "path_colonias.mkdir(exist_ok=True)\n",
    "\n",
    "filename_colonias_geojson = Path(url_colonias).name\n",
    "path_colonias_geojson = path_colonias / filename_colonias_geojson"
   ]
  },
  {
   "cell_type": "code",
   "execution_count": 8,
   "id": "6a045785",
   "metadata": {},
   "outputs": [],
   "source": [
    "r_colonias = requests.get(url_colonias, stream=True)\n",
    "\n",
    "with open(path_colonias_geojson, 'wb') as gf: \n",
    "    for chunk in r_colonias.iter_content(chunk_size=10*1024*1024): \n",
    "        gf.write(chunk)"
   ]
  },
  {
   "cell_type": "code",
   "execution_count": 11,
   "id": "d4c76984",
   "metadata": {},
   "outputs": [
    {
     "name": "stdout",
     "output_type": "stream",
     "text": [
      "data\\raw\\geo\\colonias\\794551132180_s.zip\n",
      "data\\raw\\geo\\colonias\\coloniasine2020.geojson\n"
     ]
    }
   ],
   "source": [
    "for item in path_colonias.iterdir(): print(item.relative_to(ROOT_DIR))"
   ]
  },
  {
   "cell_type": "code",
   "execution_count": null,
   "id": "9ad92128",
   "metadata": {},
   "outputs": [],
   "source": [
    "with zipfile.ZipFile(path_colonias_geojson, 'r') as zf: \n",
    "    zf.extractall(path_colonias)\n",
    "\n",
    "# path_colonias_geojson.unlink()"
   ]
  },
  {
   "cell_type": "markdown",
   "id": "ff6fa67c",
   "metadata": {},
   "source": [
    "Los archivos descomprimidos contienen la siguiente estructura: \n",
    "\n",
    "..."
   ]
  },
  {
   "cell_type": "markdown",
   "id": "554abfbe",
   "metadata": {},
   "source": [
    "Obtenenemos el archivo shapefile: "
   ]
  },
  {
   "cell_type": "code",
   "execution_count": 20,
   "id": "98ba88ea",
   "metadata": {},
   "outputs": [
    {
     "name": "stdout",
     "output_type": "stream",
     "text": [
      "data\\raw\\geo\\colonias\\conjunto_de_datos\\00as.shp\n"
     ]
    }
   ],
   "source": [
    "for item in path_colonias.rglob(\"*.shp\"):\n",
    "    print(item.relative_to(ROOT_DIR))"
   ]
  },
  {
   "cell_type": "code",
   "execution_count": 21,
   "id": "014e1fc4",
   "metadata": {},
   "outputs": [
    {
     "data": {
      "text/plain": [
       "(True, True)"
      ]
     },
     "execution_count": 21,
     "metadata": {},
     "output_type": "execute_result"
    }
   ],
   "source": [
    "path_colonias_shp = path_colonias / \"conjunto_de_datos\" / \"00as.shp\"\n",
    "path_colonias_shp.is_file(), path_colonias_shp.exists()"
   ]
  },
  {
   "cell_type": "markdown",
   "id": "a85ec997",
   "metadata": {},
   "source": [
    "Cargamos el archivo geojson como `GeoDataFrame`: "
   ]
  },
  {
   "cell_type": "code",
   "execution_count": 54,
   "id": "624a280c",
   "metadata": {},
   "outputs": [
    {
     "data": {
      "text/html": [
       "<div>\n",
       "<style scoped>\n",
       "    .dataframe tbody tr th:only-of-type {\n",
       "        vertical-align: middle;\n",
       "    }\n",
       "\n",
       "    .dataframe tbody tr th {\n",
       "        vertical-align: top;\n",
       "    }\n",
       "\n",
       "    .dataframe thead th {\n",
       "        text-align: right;\n",
       "    }\n",
       "</style>\n",
       "<table border=\"1\" class=\"dataframe\">\n",
       "  <thead>\n",
       "    <tr style=\"text-align: right;\">\n",
       "      <th></th>\n",
       "      <th>CVEGEO</th>\n",
       "      <th>CVE_ENT</th>\n",
       "      <th>CVE_MUN</th>\n",
       "      <th>CVE_LOC</th>\n",
       "      <th>CVE_ASEN</th>\n",
       "      <th>CP</th>\n",
       "      <th>FECHA_ACT</th>\n",
       "      <th>INSTITUCIO</th>\n",
       "      <th>NOM_ASEN</th>\n",
       "      <th>TIPO</th>\n",
       "      <th>Shape_Leng</th>\n",
       "      <th>Shape_Area</th>\n",
       "      <th>geometry</th>\n",
       "    </tr>\n",
       "  </thead>\n",
       "  <tbody>\n",
       "    <tr>\n",
       "      <th>0</th>\n",
       "      <td>0100100010001</td>\n",
       "      <td>01</td>\n",
       "      <td>001</td>\n",
       "      <td>0001</td>\n",
       "      <td>0001</td>\n",
       "      <td>20263</td>\n",
       "      <td>11/2023</td>\n",
       "      <td>SECRETARÍA DE DESARROLLO URBANO DEL MUNICIPIO ...</td>\n",
       "      <td>AGUA CLARA</td>\n",
       "      <td>FRACCIONAMIENTO</td>\n",
       "      <td>1107.383585</td>\n",
       "      <td>52767.800484</td>\n",
       "      <td>POLYGON ((2474021.992 1093915.819, 2474034.109...</td>\n",
       "    </tr>\n",
       "    <tr>\n",
       "      <th>1</th>\n",
       "      <td>0100100010002</td>\n",
       "      <td>01</td>\n",
       "      <td>001</td>\n",
       "      <td>0001</td>\n",
       "      <td>0002</td>\n",
       "      <td>20159</td>\n",
       "      <td>11/2023</td>\n",
       "      <td>SECRETARÍA DE DESARROLLO URBANO DEL MUNICIPIO ...</td>\n",
       "      <td>ALIANZA FERROCARRILERA</td>\n",
       "      <td>FRACCIONAMIENTO</td>\n",
       "      <td>1938.265565</td>\n",
       "      <td>97261.356447</td>\n",
       "      <td>POLYGON ((2471105.967 1099065.062, 2471107.515...</td>\n",
       "    </tr>\n",
       "    <tr>\n",
       "      <th>2</th>\n",
       "      <td>0100100010003</td>\n",
       "      <td>01</td>\n",
       "      <td>001</td>\n",
       "      <td>0001</td>\n",
       "      <td>0003</td>\n",
       "      <td>20040</td>\n",
       "      <td>11/2023</td>\n",
       "      <td>SECRETARÍA DE DESARROLLO URBANO DEL MUNICIPIO ...</td>\n",
       "      <td>ALTAVISTA</td>\n",
       "      <td>COLONIA</td>\n",
       "      <td>2569.108212</td>\n",
       "      <td>368212.263364</td>\n",
       "      <td>POLYGON ((2468095.184 1097647.988, 2468169.06 ...</td>\n",
       "    </tr>\n",
       "    <tr>\n",
       "      <th>3</th>\n",
       "      <td>0100100010004</td>\n",
       "      <td>01</td>\n",
       "      <td>001</td>\n",
       "      <td>0001</td>\n",
       "      <td>0004</td>\n",
       "      <td>20230</td>\n",
       "      <td>11/2023</td>\n",
       "      <td>SECRETARÍA DE DESARROLLO URBANO DEL MUNICIPIO ...</td>\n",
       "      <td>LAS AMERICAS</td>\n",
       "      <td>FRACCIONAMIENTO</td>\n",
       "      <td>3548.120214</td>\n",
       "      <td>462805.496892</td>\n",
       "      <td>POLYGON ((2469185.751 1094893.007, 2469280.792...</td>\n",
       "    </tr>\n",
       "    <tr>\n",
       "      <th>4</th>\n",
       "      <td>0100100010005</td>\n",
       "      <td>01</td>\n",
       "      <td>001</td>\n",
       "      <td>0001</td>\n",
       "      <td>0005</td>\n",
       "      <td>20020</td>\n",
       "      <td>11/2023</td>\n",
       "      <td>SECRETARÍA DE DESARROLLO URBANO DEL MUNICIPIO ...</td>\n",
       "      <td>LAS ARBOLEDAS</td>\n",
       "      <td>FRACCIONAMIENTO</td>\n",
       "      <td>2418.992126</td>\n",
       "      <td>201564.185798</td>\n",
       "      <td>POLYGON ((2468943.182 1098316.269, 2468946.723...</td>\n",
       "    </tr>\n",
       "  </tbody>\n",
       "</table>\n",
       "</div>"
      ],
      "text/plain": [
       "          CVEGEO CVE_ENT CVE_MUN CVE_LOC CVE_ASEN     CP FECHA_ACT  \\\n",
       "0  0100100010001      01     001    0001     0001  20263   11/2023   \n",
       "1  0100100010002      01     001    0001     0002  20159   11/2023   \n",
       "2  0100100010003      01     001    0001     0003  20040   11/2023   \n",
       "3  0100100010004      01     001    0001     0004  20230   11/2023   \n",
       "4  0100100010005      01     001    0001     0005  20020   11/2023   \n",
       "\n",
       "                                          INSTITUCIO                NOM_ASEN  \\\n",
       "0  SECRETARÍA DE DESARROLLO URBANO DEL MUNICIPIO ...              AGUA CLARA   \n",
       "1  SECRETARÍA DE DESARROLLO URBANO DEL MUNICIPIO ...  ALIANZA FERROCARRILERA   \n",
       "2  SECRETARÍA DE DESARROLLO URBANO DEL MUNICIPIO ...               ALTAVISTA   \n",
       "3  SECRETARÍA DE DESARROLLO URBANO DEL MUNICIPIO ...            LAS AMERICAS   \n",
       "4  SECRETARÍA DE DESARROLLO URBANO DEL MUNICIPIO ...           LAS ARBOLEDAS   \n",
       "\n",
       "              TIPO   Shape_Leng     Shape_Area  \\\n",
       "0  FRACCIONAMIENTO  1107.383585   52767.800484   \n",
       "1  FRACCIONAMIENTO  1938.265565   97261.356447   \n",
       "2          COLONIA  2569.108212  368212.263364   \n",
       "3  FRACCIONAMIENTO  3548.120214  462805.496892   \n",
       "4  FRACCIONAMIENTO  2418.992126  201564.185798   \n",
       "\n",
       "                                            geometry  \n",
       "0  POLYGON ((2474021.992 1093915.819, 2474034.109...  \n",
       "1  POLYGON ((2471105.967 1099065.062, 2471107.515...  \n",
       "2  POLYGON ((2468095.184 1097647.988, 2468169.06 ...  \n",
       "3  POLYGON ((2469185.751 1094893.007, 2469280.792...  \n",
       "4  POLYGON ((2468943.182 1098316.269, 2468946.723...  "
      ]
     },
     "execution_count": 54,
     "metadata": {},
     "output_type": "execute_result"
    }
   ],
   "source": [
    "gdf_colonias = gpd.read_file(path_colonias_shp)\n",
    "gdf_colonias.head()"
   ]
  },
  {
   "cell_type": "code",
   "execution_count": 55,
   "id": "10a84931",
   "metadata": {},
   "outputs": [
    {
     "name": "stdout",
     "output_type": "stream",
     "text": [
      "<class 'geopandas.geodataframe.GeoDataFrame'>\n",
      "RangeIndex: 75516 entries, 0 to 75515\n",
      "Data columns (total 13 columns):\n",
      " #   Column      Non-Null Count  Dtype   \n",
      "---  ------      --------------  -----   \n",
      " 0   CVEGEO      75516 non-null  object  \n",
      " 1   CVE_ENT     75516 non-null  object  \n",
      " 2   CVE_MUN     75516 non-null  object  \n",
      " 3   CVE_LOC     75516 non-null  object  \n",
      " 4   CVE_ASEN    75516 non-null  object  \n",
      " 5   CP          75516 non-null  object  \n",
      " 6   FECHA_ACT   75516 non-null  object  \n",
      " 7   INSTITUCIO  75516 non-null  object  \n",
      " 8   NOM_ASEN    75516 non-null  object  \n",
      " 9   TIPO        75516 non-null  object  \n",
      " 10  Shape_Leng  75516 non-null  float64 \n",
      " 11  Shape_Area  75516 non-null  float64 \n",
      " 12  geometry    75516 non-null  geometry\n",
      "dtypes: float64(2), geometry(1), object(10)\n",
      "memory usage: 7.5+ MB\n"
     ]
    }
   ],
   "source": [
    "gdf_colonias.info()"
   ]
  },
  {
   "cell_type": "code",
   "execution_count": 56,
   "id": "ae190d58",
   "metadata": {},
   "outputs": [],
   "source": [
    "gdf_colonias[['CVE_ENT', 'CVE_MUN', 'CVE_LOC']] = gdf_colonias[['CVE_ENT', 'CVE_MUN', 'CVE_LOC']].astype(int)"
   ]
  },
  {
   "cell_type": "markdown",
   "id": "ece8321a",
   "metadata": {},
   "source": [
    "En el [diccionarió de datos]() se menciona que la clave para colnias de Hermosillo es `CVE_ENT=26` (Sonora) y `CVE_MUN=30`:"
   ]
  },
  {
   "cell_type": "code",
   "execution_count": 57,
   "id": "42ade2bc",
   "metadata": {},
   "outputs": [
    {
     "data": {
      "text/html": [
       "<div>\n",
       "<style scoped>\n",
       "    .dataframe tbody tr th:only-of-type {\n",
       "        vertical-align: middle;\n",
       "    }\n",
       "\n",
       "    .dataframe tbody tr th {\n",
       "        vertical-align: top;\n",
       "    }\n",
       "\n",
       "    .dataframe thead th {\n",
       "        text-align: right;\n",
       "    }\n",
       "</style>\n",
       "<table border=\"1\" class=\"dataframe\">\n",
       "  <thead>\n",
       "    <tr style=\"text-align: right;\">\n",
       "      <th></th>\n",
       "      <th>CVEGEO</th>\n",
       "      <th>CVE_ENT</th>\n",
       "      <th>CVE_MUN</th>\n",
       "      <th>CVE_LOC</th>\n",
       "      <th>CVE_ASEN</th>\n",
       "      <th>CP</th>\n",
       "      <th>FECHA_ACT</th>\n",
       "      <th>INSTITUCIO</th>\n",
       "      <th>NOM_ASEN</th>\n",
       "      <th>TIPO</th>\n",
       "      <th>Shape_Leng</th>\n",
       "      <th>Shape_Area</th>\n",
       "      <th>geometry</th>\n",
       "    </tr>\n",
       "  </thead>\n",
       "  <tbody>\n",
       "    <tr>\n",
       "      <th>66032</th>\n",
       "      <td>2603000010001</td>\n",
       "      <td>26</td>\n",
       "      <td>30</td>\n",
       "      <td>1</td>\n",
       "      <td>0001</td>\n",
       "      <td>83290</td>\n",
       "      <td>11/2021</td>\n",
       "      <td>DIRECCIÓN DE CATASTRO, HERMOSILLO</td>\n",
       "      <td>Y GRIEGA</td>\n",
       "      <td>BARRIO</td>\n",
       "      <td>3242.570807</td>\n",
       "      <td>588003.672042</td>\n",
       "      <td>POLYGON ((1628676.872 1912677.506, 1628689.302...</td>\n",
       "    </tr>\n",
       "    <tr>\n",
       "      <th>66033</th>\n",
       "      <td>2603000010002</td>\n",
       "      <td>26</td>\n",
       "      <td>30</td>\n",
       "      <td>1</td>\n",
       "      <td>0002</td>\n",
       "      <td>83170</td>\n",
       "      <td>11/2021</td>\n",
       "      <td>DIRECCIÓN DE CATASTRO, HERMOSILLO</td>\n",
       "      <td>22 DE SEPTIEMBRE</td>\n",
       "      <td>COLONIA</td>\n",
       "      <td>1490.542076</td>\n",
       "      <td>91522.382755</td>\n",
       "      <td>POLYGON ((1625114.365 1920744.87, 1625108.24 1...</td>\n",
       "    </tr>\n",
       "    <tr>\n",
       "      <th>66034</th>\n",
       "      <td>2603000010003</td>\n",
       "      <td>26</td>\n",
       "      <td>30</td>\n",
       "      <td>1</td>\n",
       "      <td>0003</td>\n",
       "      <td>83010</td>\n",
       "      <td>11/2021</td>\n",
       "      <td>DIRECCIÓN DE CATASTRO, HERMOSILLO</td>\n",
       "      <td>5 DE MAYO</td>\n",
       "      <td>COLONIA</td>\n",
       "      <td>2741.592650</td>\n",
       "      <td>412142.736606</td>\n",
       "      <td>POLYGON ((1630682.538 1918370.937, 1630673.847...</td>\n",
       "    </tr>\n",
       "    <tr>\n",
       "      <th>66035</th>\n",
       "      <td>2603000010004</td>\n",
       "      <td>26</td>\n",
       "      <td>30</td>\n",
       "      <td>1</td>\n",
       "      <td>0004</td>\n",
       "      <td>83295</td>\n",
       "      <td>11/2021</td>\n",
       "      <td>DIRECCIÓN DE CATASTRO, HERMOSILLO</td>\n",
       "      <td>ADOLFO DE LA HUERTA</td>\n",
       "      <td>COLONIA</td>\n",
       "      <td>1894.537972</td>\n",
       "      <td>170764.281316</td>\n",
       "      <td>POLYGON ((1628569.432 1911347.802, 1628586.33 ...</td>\n",
       "    </tr>\n",
       "    <tr>\n",
       "      <th>66036</th>\n",
       "      <td>2603000010005</td>\n",
       "      <td>26</td>\n",
       "      <td>30</td>\n",
       "      <td>1</td>\n",
       "      <td>0005</td>\n",
       "      <td>83170</td>\n",
       "      <td>11/2021</td>\n",
       "      <td>DIRECCIÓN DE CATASTRO, HERMOSILLO</td>\n",
       "      <td>ADOLFO LÓPEZ MATEOS</td>\n",
       "      <td>COLONIA</td>\n",
       "      <td>4004.081803</td>\n",
       "      <td>664894.362011</td>\n",
       "      <td>POLYGON ((1625720.766 1921397.837, 1625718.809...</td>\n",
       "    </tr>\n",
       "  </tbody>\n",
       "</table>\n",
       "</div>"
      ],
      "text/plain": [
       "              CVEGEO  CVE_ENT  CVE_MUN  CVE_LOC CVE_ASEN     CP FECHA_ACT  \\\n",
       "66032  2603000010001       26       30        1     0001  83290   11/2021   \n",
       "66033  2603000010002       26       30        1     0002  83170   11/2021   \n",
       "66034  2603000010003       26       30        1     0003  83010   11/2021   \n",
       "66035  2603000010004       26       30        1     0004  83295   11/2021   \n",
       "66036  2603000010005       26       30        1     0005  83170   11/2021   \n",
       "\n",
       "                              INSTITUCIO             NOM_ASEN     TIPO  \\\n",
       "66032  DIRECCIÓN DE CATASTRO, HERMOSILLO             Y GRIEGA   BARRIO   \n",
       "66033  DIRECCIÓN DE CATASTRO, HERMOSILLO     22 DE SEPTIEMBRE  COLONIA   \n",
       "66034  DIRECCIÓN DE CATASTRO, HERMOSILLO            5 DE MAYO  COLONIA   \n",
       "66035  DIRECCIÓN DE CATASTRO, HERMOSILLO  ADOLFO DE LA HUERTA  COLONIA   \n",
       "66036  DIRECCIÓN DE CATASTRO, HERMOSILLO  ADOLFO LÓPEZ MATEOS  COLONIA   \n",
       "\n",
       "        Shape_Leng     Shape_Area  \\\n",
       "66032  3242.570807  588003.672042   \n",
       "66033  1490.542076   91522.382755   \n",
       "66034  2741.592650  412142.736606   \n",
       "66035  1894.537972  170764.281316   \n",
       "66036  4004.081803  664894.362011   \n",
       "\n",
       "                                                geometry  \n",
       "66032  POLYGON ((1628676.872 1912677.506, 1628689.302...  \n",
       "66033  POLYGON ((1625114.365 1920744.87, 1625108.24 1...  \n",
       "66034  POLYGON ((1630682.538 1918370.937, 1630673.847...  \n",
       "66035  POLYGON ((1628569.432 1911347.802, 1628586.33 ...  \n",
       "66036  POLYGON ((1625720.766 1921397.837, 1625718.809...  "
      ]
     },
     "execution_count": 57,
     "metadata": {},
     "output_type": "execute_result"
    }
   ],
   "source": [
    "gdf_colonias_hmo = gdf_colonias[\n",
    "    (gdf_colonias['CVE_ENT'] == 26) & \n",
    "    (gdf_colonias['CVE_MUN'] == 30)\n",
    "]\n",
    "gdf_colonias_hmo.head()"
   ]
  },
  {
   "cell_type": "markdown",
   "id": "3616acdc",
   "metadata": {},
   "source": [
    "Graficamos para verificar: "
   ]
  },
  {
   "cell_type": "code",
   "execution_count": 58,
   "id": "8bf3850a",
   "metadata": {},
   "outputs": [
    {
     "data": {
      "text/plain": [
       "<Axes: >"
      ]
     },
     "execution_count": 58,
     "metadata": {},
     "output_type": "execute_result"
    },
    {
     "data": {
      "image/png": "[encoded data removed]",
      "text/plain": [
       "<Figure size 640x480 with 1 Axes>"
      ]
     },
     "metadata": {},
     "output_type": "display_data"
    }
   ],
   "source": [
    "gdf_colonias_hmo.plot()"
   ]
  },
  {
   "cell_type": "markdown",
   "id": "6304d813",
   "metadata": {},
   "source": [
    "Observamos que se consideran todas las localidades que pertenecen a hermosillo, pero nos interesan unicamente las urbanas: "
   ]
  },
  {
   "cell_type": "code",
   "execution_count": 59,
   "id": "7af85101",
   "metadata": {},
   "outputs": [
    {
     "data": {
      "text/plain": [
       "array([  1, 137, 343])"
      ]
     },
     "execution_count": 59,
     "metadata": {},
     "output_type": "execute_result"
    }
   ],
   "source": [
    "gdf_colonias_hmo['CVE_LOC'].unique()"
   ]
  },
  {
   "cell_type": "markdown",
   "id": "6fb18f3a",
   "metadata": {},
   "source": [
    "La clave de la localidad de Hermosillo es 0001: "
   ]
  },
  {
   "cell_type": "code",
   "execution_count": 61,
   "id": "1d08f90f",
   "metadata": {},
   "outputs": [],
   "source": [
    "gdf_colonias_hmo_urb = gdf_colonias_hmo[gdf_colonias_hmo['CVE_LOC'] == 1]"
   ]
  },
  {
   "cell_type": "code",
   "execution_count": 62,
   "id": "566be0a5",
   "metadata": {},
   "outputs": [
    {
     "data": {
      "text/plain": [
       "<Axes: >"
      ]
     },
     "execution_count": 62,
     "metadata": {},
     "output_type": "execute_result"
    },
    {
     "data": {
      "image/png": "[encoded data removed]",
      "text/plain": [
       "<Figure size 640x480 with 1 Axes>"
      ]
     },
     "metadata": {},
     "output_type": "display_data"
    }
   ],
   "source": [
    "gdf_colonias_hmo_urb.plot()"
   ]
  }
 ],
 "metadata": {
  "kernelspec": {
   "display_name": ".venv",
   "language": "python",
   "name": "python3"
  },
  "language_info": {
   "codemirror_mode": {
    "name": "ipython",
    "version": 3
   },
   "file_extension": ".py",
   "mimetype": "text/x-python",
   "name": "python",
   "nbconvert_exporter": "python",
   "pygments_lexer": "ipython3",
   "version": "3.11.9"
  }
 },
 "nbformat": 4,
 "nbformat_minor": 5
}
