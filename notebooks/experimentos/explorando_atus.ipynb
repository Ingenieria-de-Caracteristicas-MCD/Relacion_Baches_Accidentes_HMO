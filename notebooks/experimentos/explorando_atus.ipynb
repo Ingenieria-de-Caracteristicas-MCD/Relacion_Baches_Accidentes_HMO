{
 "cells": [
  {
   "cell_type": "markdown",
   "id": "76c64d9a",
   "metadata": {},
   "source": [
    "Explorando [ATUS](https://www.inegi.org.mx/programas/accidentes/#datos_abiertos)\n",
    "\n",
    "* ATUS: Accidentes de tránsito terrestres en zonas urbanas y suburbanas\n"
   ]
  },
  {
   "cell_type": "markdown",
   "id": "96182e8c",
   "metadata": {},
   "source": [
    "## Configuracion de entorno"
   ]
  },
  {
   "cell_type": "code",
   "execution_count": 130,
   "id": "bef7190e",
   "metadata": {},
   "outputs": [],
   "source": [
    "from pathlib import Path\n",
    "import zipfile\n",
    "\n",
    "import pandas as pd\n",
    "import geopandas as gpd\n",
    "import matplotlib.pyplot as plt\n",
    "import seaborn as sns\n",
    "import requests"
   ]
  },
  {
   "cell_type": "code",
   "execution_count": 2,
   "id": "68dc0bb0",
   "metadata": {},
   "outputs": [],
   "source": [
    "ROOT = Path().resolve().parent\n",
    "DATA = ROOT / \"data\"\n",
    "DATA.mkdir(exist_ok=True)\n",
    "\n",
    "RAW = DATA / \"raw\"\n",
    "RAW.mkdir(exist_ok=True)\n",
    "\n",
    "PROCESSED = DATA / \"processed\"\n",
    "PROCESSED.mkdir(exist_ok=True)"
   ]
  },
  {
   "cell_type": "markdown",
   "id": "d042d77b",
   "metadata": {},
   "source": [
    "## Descarga de los datos"
   ]
  },
  {
   "cell_type": "code",
   "execution_count": 3,
   "id": "6650f924",
   "metadata": {},
   "outputs": [],
   "source": [
    "url = \"https://www.inegi.org.mx/contenidos/programas/accidentes/datosabiertos/conjunto_de_datos_atus_anual_csv.zip\""
   ]
  },
  {
   "cell_type": "code",
   "execution_count": 4,
   "id": "de045dc1",
   "metadata": {},
   "outputs": [],
   "source": [
    "r = requests.get(url, stream=True)"
   ]
  },
  {
   "cell_type": "code",
   "execution_count": 5,
   "id": "9c78df4c",
   "metadata": {},
   "outputs": [
    {
     "name": "stdout",
     "output_type": "stream",
     "text": [
      "Cache-Control must-revalidate,max-age=10\n",
      "Content-Type application/x-zip-compressed\n",
      "Last-Modified Fri, 01 Aug 2025 22:00:06 GMT\n",
      "Accept-Ranges bytes\n",
      "ETag \"60cbcda32f3dc1:0\"\n",
      "Server Microsoft-IIS/10.0\n",
      "X-Powered-By ASP.NET_Pro9\n",
      "Date Wed, 08 Oct 2025 19:33:35 GMT\n",
      "Content-Length 136739132\n",
      "Set-Cookie BIGipServerLB_contenidos2=1191352586.37407.0000; expires=Wed, 08-Oct-2025 19:53:35 GMT; path=/; Httponly; Secure\n"
     ]
    }
   ],
   "source": [
    "for k, v in r.headers.items(): print(k, v)"
   ]
  },
  {
   "cell_type": "code",
   "execution_count": 6,
   "id": "a893dbf9",
   "metadata": {},
   "outputs": [
    {
     "name": "stdout",
     "output_type": "stream",
     "text": [
      "File: data\\raw\\atus_1997-2024.zip already exists!\n"
     ]
    }
   ],
   "source": [
    "zipfile_path = RAW / \"atus_1997-2024.zip\"\n",
    "\n",
    "if not zipfile_path.exists(): \n",
    "    with open(zipfile_path, 'wb') as zfile: \n",
    "        for chunk in r.iter_content(chunk_size=10*1024*1024): \n",
    "            zfile.write(chunk)\n",
    "else: \n",
    "    print(f'File: {zipfile_path.relative_to(ROOT)} already exists!')"
   ]
  },
  {
   "cell_type": "code",
   "execution_count": 11,
   "id": "d6bff78b",
   "metadata": {},
   "outputs": [],
   "source": [
    "atusdir = RAW / \"atus_1997-2024\"\n",
    "atusdir.mkdir(exist_ok=True)\n",
    "\n",
    "if not any(atusdir.iterdir()):\n",
    "    with zipfile.ZipFile(zipfile_path, 'r') as zfile: \n",
    "        zfile.extractall(path=atusdir)"
   ]
  },
  {
   "cell_type": "code",
   "execution_count": 12,
   "id": "eeb8f38c",
   "metadata": {},
   "outputs": [
    {
     "name": "stdout",
     "output_type": "stream",
     "text": [
      "data\\raw\\atus_1997-2024\\catalogos\n",
      "data\\raw\\atus_1997-2024\\conjunto_de_datos\n",
      "data\\raw\\atus_1997-2024\\diccionario_de_datos\n",
      "data\\raw\\atus_1997-2024\\leeme_faq.txt\n",
      "data\\raw\\atus_1997-2024\\metadatos\n"
     ]
    }
   ],
   "source": [
    "for item in atusdir.iterdir(): \n",
    "    print(item.relative_to(ROOT))"
   ]
  },
  {
   "cell_type": "code",
   "execution_count": 13,
   "id": "74e99d4d",
   "metadata": {},
   "outputs": [],
   "source": [
    "catalogos_path = atusdir / \"catalogos\"\n",
    "datos_path = atusdir / \"conjunto_de_datos\""
   ]
  },
  {
   "cell_type": "markdown",
   "id": "24999d03",
   "metadata": {},
   "source": [
    "## Exploración"
   ]
  },
  {
   "cell_type": "markdown",
   "id": "f3508a0b",
   "metadata": {},
   "source": [
    "### Catalogos"
   ]
  },
  {
   "cell_type": "code",
   "execution_count": 14,
   "id": "46a7078a",
   "metadata": {},
   "outputs": [
    {
     "name": "stdout",
     "output_type": "stream",
     "text": [
      "data\\raw\\atus_1997-2024\\catalogos\\tc_dia.csv\n",
      "data\\raw\\atus_1997-2024\\catalogos\\tc_edad.csv\n",
      "data\\raw\\atus_1997-2024\\catalogos\\tc_entidad.csv\n",
      "data\\raw\\atus_1997-2024\\catalogos\\tc_hora.csv\n",
      "data\\raw\\atus_1997-2024\\catalogos\\tc_minuto.csv\n",
      "data\\raw\\atus_1997-2024\\catalogos\\tc_municipio.csv\n",
      "data\\raw\\atus_1997-2024\\catalogos\\tc_periodo_mes.csv\n"
     ]
    }
   ],
   "source": [
    "for item in catalogos_path.iterdir(): \n",
    "    print(item.relative_to(ROOT))"
   ]
  },
  {
   "cell_type": "code",
   "execution_count": 16,
   "id": "3e586ae4",
   "metadata": {},
   "outputs": [],
   "source": [
    "df_municipio = pd.read_csv(catalogos_path.joinpath(\"tc_municipio.csv\"))"
   ]
  },
  {
   "cell_type": "code",
   "execution_count": 17,
   "id": "6c9a3260",
   "metadata": {},
   "outputs": [
    {
     "data": {
      "text/html": [
       "<div>\n",
       "<style scoped>\n",
       "    .dataframe tbody tr th:only-of-type {\n",
       "        vertical-align: middle;\n",
       "    }\n",
       "\n",
       "    .dataframe tbody tr th {\n",
       "        vertical-align: top;\n",
       "    }\n",
       "\n",
       "    .dataframe thead th {\n",
       "        text-align: right;\n",
       "    }\n",
       "</style>\n",
       "<table border=\"1\" class=\"dataframe\">\n",
       "  <thead>\n",
       "    <tr style=\"text-align: right;\">\n",
       "      <th></th>\n",
       "      <th>ID_ENTIDAD</th>\n",
       "      <th>ID_MUNICIPIO</th>\n",
       "      <th>NOM_MUNICIPIO</th>\n",
       "    </tr>\n",
       "  </thead>\n",
       "  <tbody>\n",
       "    <tr>\n",
       "      <th>0</th>\n",
       "      <td>1</td>\n",
       "      <td>1</td>\n",
       "      <td>Aguascalientes</td>\n",
       "    </tr>\n",
       "    <tr>\n",
       "      <th>1</th>\n",
       "      <td>1</td>\n",
       "      <td>2</td>\n",
       "      <td>Asientos</td>\n",
       "    </tr>\n",
       "    <tr>\n",
       "      <th>2</th>\n",
       "      <td>1</td>\n",
       "      <td>3</td>\n",
       "      <td>Calvillo</td>\n",
       "    </tr>\n",
       "    <tr>\n",
       "      <th>3</th>\n",
       "      <td>1</td>\n",
       "      <td>4</td>\n",
       "      <td>Cosío</td>\n",
       "    </tr>\n",
       "    <tr>\n",
       "      <th>4</th>\n",
       "      <td>1</td>\n",
       "      <td>5</td>\n",
       "      <td>Jesús María</td>\n",
       "    </tr>\n",
       "  </tbody>\n",
       "</table>\n",
       "</div>"
      ],
      "text/plain": [
       "   ID_ENTIDAD  ID_MUNICIPIO   NOM_MUNICIPIO\n",
       "0           1             1  Aguascalientes\n",
       "1           1             2        Asientos\n",
       "2           1             3        Calvillo\n",
       "3           1             4           Cosío\n",
       "4           1             5     Jesús María"
      ]
     },
     "execution_count": 17,
     "metadata": {},
     "output_type": "execute_result"
    }
   ],
   "source": [
    "df_municipio.head()"
   ]
  },
  {
   "cell_type": "code",
   "execution_count": 23,
   "id": "cf1cc55f",
   "metadata": {},
   "outputs": [
    {
     "data": {
      "text/html": [
       "<div>\n",
       "<style scoped>\n",
       "    .dataframe tbody tr th:only-of-type {\n",
       "        vertical-align: middle;\n",
       "    }\n",
       "\n",
       "    .dataframe tbody tr th {\n",
       "        vertical-align: top;\n",
       "    }\n",
       "\n",
       "    .dataframe thead th {\n",
       "        text-align: right;\n",
       "    }\n",
       "</style>\n",
       "<table border=\"1\" class=\"dataframe\">\n",
       "  <thead>\n",
       "    <tr style=\"text-align: right;\">\n",
       "      <th></th>\n",
       "      <th>ID_ENTIDAD</th>\n",
       "      <th>ID_MUNICIPIO</th>\n",
       "      <th>NOM_MUNICIPIO</th>\n",
       "    </tr>\n",
       "  </thead>\n",
       "  <tbody>\n",
       "    <tr>\n",
       "      <th>1964</th>\n",
       "      <td>26</td>\n",
       "      <td>30</td>\n",
       "      <td>Hermosillo</td>\n",
       "    </tr>\n",
       "  </tbody>\n",
       "</table>\n",
       "</div>"
      ],
      "text/plain": [
       "      ID_ENTIDAD  ID_MUNICIPIO NOM_MUNICIPIO\n",
       "1964          26            30    Hermosillo"
      ]
     },
     "execution_count": 23,
     "metadata": {},
     "output_type": "execute_result"
    }
   ],
   "source": [
    "df_municipio[df_municipio['NOM_MUNICIPIO'] == 'Hermosillo']"
   ]
  },
  {
   "cell_type": "code",
   "execution_count": 44,
   "id": "2fd85ba2",
   "metadata": {},
   "outputs": [
    {
     "data": {
      "text/plain": [
       "{'id_entidad': 26, 'id_municipio': 30}"
      ]
     },
     "execution_count": 44,
     "metadata": {},
     "output_type": "execute_result"
    }
   ],
   "source": [
    "id_hmo = {'id_entidad': 26, 'id_municipio': 30}\n",
    "id_hmo"
   ]
  },
  {
   "cell_type": "markdown",
   "id": "2a462a8c",
   "metadata": {},
   "source": [
    "### Datos"
   ]
  },
  {
   "cell_type": "code",
   "execution_count": 25,
   "metadata": {},
   "outputs": [
    {
     "name": "stdout",
     "output_type": "stream",
     "text": [
      "data\\raw\\atus_1997-2024\\conjunto_de_datos\\atus_anual_1997.csv\n",
      "data\\raw\\atus_1997-2024\\conjunto_de_datos\\atus_anual_1998.csv\n",
      "data\\raw\\atus_1997-2024\\conjunto_de_datos\\atus_anual_1999.csv\n",
      "data\\raw\\atus_1997-2024\\conjunto_de_datos\\atus_anual_2000.csv\n",
      "data\\raw\\atus_1997-2024\\conjunto_de_datos\\atus_anual_2001.csv\n",
      "data\\raw\\atus_1997-2024\\conjunto_de_datos\\atus_anual_2002.csv\n",
      "data\\raw\\atus_1997-2024\\conjunto_de_datos\\atus_anual_2003.csv\n",
      "data\\raw\\atus_1997-2024\\conjunto_de_datos\\atus_anual_2004.csv\n",
      "data\\raw\\atus_1997-2024\\conjunto_de_datos\\atus_anual_2005.csv\n",
      "data\\raw\\atus_1997-2024\\conjunto_de_datos\\atus_anual_2006.csv\n",
      "data\\raw\\atus_1997-2024\\conjunto_de_datos\\atus_anual_2007.csv\n",
      "data\\raw\\atus_1997-2024\\conjunto_de_datos\\atus_anual_2008.csv\n",
      "data\\raw\\atus_1997-2024\\conjunto_de_datos\\atus_anual_2009.csv\n",
      "data\\raw\\atus_1997-2024\\conjunto_de_datos\\atus_anual_2010.csv\n",
      "data\\raw\\atus_1997-2024\\conjunto_de_datos\\atus_anual_2011.csv\n",
      "data\\raw\\atus_1997-2024\\conjunto_de_datos\\atus_anual_2012.csv\n",
      "data\\raw\\atus_1997-2024\\conjunto_de_datos\\atus_anual_2013.csv\n",
      "data\\raw\\atus_1997-2024\\conjunto_de_datos\\atus_anual_2014.csv\n",
      "data\\raw\\atus_1997-2024\\conjunto_de_datos\\atus_anual_2015.csv\n",
      "data\\raw\\atus_1997-2024\\conjunto_de_datos\\atus_anual_2016.csv\n",
      "data\\raw\\atus_1997-2024\\conjunto_de_datos\\atus_anual_2017.csv\n",
      "data\\raw\\atus_1997-2024\\conjunto_de_datos\\atus_anual_2018.csv\n",
      "data\\raw\\atus_1997-2024\\conjunto_de_datos\\atus_anual_2019.csv\n",
      "data\\raw\\atus_1997-2024\\conjunto_de_datos\\atus_anual_2020.csv\n",
      "data\\raw\\atus_1997-2024\\conjunto_de_datos\\atus_anual_2021.csv\n",
      "data\\raw\\atus_1997-2024\\conjunto_de_datos\\atus_anual_2022.csv\n",
      "data\\raw\\atus_1997-2024\\conjunto_de_datos\\atus_anual_2023.csv\n",
      "data\\raw\\atus_1997-2024\\conjunto_de_datos\\atus_anual_2024.csv\n"
     ]
    }
   ],
   "source": [
    "for item in datos_path.iterdir(): \n",
    "    print(item.relative_to(ROOT))"
   ]
  },
  {
   "cell_type": "code",
   "execution_count": 99,
   "id": "6789fdf0",
   "metadata": {},
   "outputs": [],
   "source": [
    "df_atus_2021 = pd.read_csv(datos_path.joinpath(\"atus_anual_2021.csv\"), index_col=None)"
   ]
  },
  {
   "cell_type": "code",
   "execution_count": 100,
   "id": "72c481ff",
   "metadata": {},
   "outputs": [
    {
     "data": {
      "text/html": [
       "<div>\n",
       "<style scoped>\n",
       "    .dataframe tbody tr th:only-of-type {\n",
       "        vertical-align: middle;\n",
       "    }\n",
       "\n",
       "    .dataframe tbody tr th {\n",
       "        vertical-align: top;\n",
       "    }\n",
       "\n",
       "    .dataframe thead th {\n",
       "        text-align: right;\n",
       "    }\n",
       "</style>\n",
       "<table border=\"1\" class=\"dataframe\">\n",
       "  <thead>\n",
       "    <tr style=\"text-align: right;\">\n",
       "      <th></th>\n",
       "      <th>COBERTURA</th>\n",
       "      <th>ID_ENTIDAD</th>\n",
       "      <th>ID_MUNICIPIO</th>\n",
       "      <th>ANIO</th>\n",
       "      <th>MES</th>\n",
       "      <th>ID_HORA</th>\n",
       "      <th>ID_MINUTO</th>\n",
       "      <th>ID_DIA</th>\n",
       "      <th>DIASEMANA</th>\n",
       "      <th>URBANA</th>\n",
       "      <th>...</th>\n",
       "      <th>PEATMUERTO</th>\n",
       "      <th>PEATHERIDO</th>\n",
       "      <th>CICLMUERTO</th>\n",
       "      <th>CICLHERIDO</th>\n",
       "      <th>OTROMUERTO</th>\n",
       "      <th>OTROHERIDO</th>\n",
       "      <th>NEMUERTO</th>\n",
       "      <th>NEHERIDO</th>\n",
       "      <th>CLASACC</th>\n",
       "      <th>ESTATUS</th>\n",
       "    </tr>\n",
       "  </thead>\n",
       "  <tbody>\n",
       "    <tr>\n",
       "      <th>Municipal</th>\n",
       "      <td>1</td>\n",
       "      <td>1</td>\n",
       "      <td>2021</td>\n",
       "      <td>1</td>\n",
       "      <td>0</td>\n",
       "      <td>0</td>\n",
       "      <td>1</td>\n",
       "      <td>Viernes</td>\n",
       "      <td>Accidente en intersección</td>\n",
       "      <td>Sin accidente en esta zona</td>\n",
       "      <td>...</td>\n",
       "      <td>0</td>\n",
       "      <td>0</td>\n",
       "      <td>0</td>\n",
       "      <td>0</td>\n",
       "      <td>0</td>\n",
       "      <td>0</td>\n",
       "      <td>0</td>\n",
       "      <td>Sólo daños</td>\n",
       "      <td>Cifras Definitivas</td>\n",
       "      <td>NaN</td>\n",
       "    </tr>\n",
       "    <tr>\n",
       "      <th>Municipal</th>\n",
       "      <td>1</td>\n",
       "      <td>1</td>\n",
       "      <td>2021</td>\n",
       "      <td>1</td>\n",
       "      <td>0</td>\n",
       "      <td>0</td>\n",
       "      <td>1</td>\n",
       "      <td>Viernes</td>\n",
       "      <td>Accidente en intersección</td>\n",
       "      <td>Sin accidente en esta zona</td>\n",
       "      <td>...</td>\n",
       "      <td>0</td>\n",
       "      <td>0</td>\n",
       "      <td>0</td>\n",
       "      <td>0</td>\n",
       "      <td>0</td>\n",
       "      <td>0</td>\n",
       "      <td>0</td>\n",
       "      <td>Sólo daños</td>\n",
       "      <td>Cifras Definitivas</td>\n",
       "      <td>NaN</td>\n",
       "    </tr>\n",
       "    <tr>\n",
       "      <th>Municipal</th>\n",
       "      <td>1</td>\n",
       "      <td>1</td>\n",
       "      <td>2021</td>\n",
       "      <td>1</td>\n",
       "      <td>0</td>\n",
       "      <td>0</td>\n",
       "      <td>1</td>\n",
       "      <td>Viernes</td>\n",
       "      <td>Accidente en intersección</td>\n",
       "      <td>Sin accidente en esta zona</td>\n",
       "      <td>...</td>\n",
       "      <td>0</td>\n",
       "      <td>0</td>\n",
       "      <td>0</td>\n",
       "      <td>0</td>\n",
       "      <td>0</td>\n",
       "      <td>0</td>\n",
       "      <td>0</td>\n",
       "      <td>Fatal</td>\n",
       "      <td>Cifras Definitivas</td>\n",
       "      <td>NaN</td>\n",
       "    </tr>\n",
       "    <tr>\n",
       "      <th>Municipal</th>\n",
       "      <td>1</td>\n",
       "      <td>1</td>\n",
       "      <td>2021</td>\n",
       "      <td>1</td>\n",
       "      <td>0</td>\n",
       "      <td>0</td>\n",
       "      <td>1</td>\n",
       "      <td>Viernes</td>\n",
       "      <td>Accidente en intersección</td>\n",
       "      <td>Sin accidente en esta zona</td>\n",
       "      <td>...</td>\n",
       "      <td>0</td>\n",
       "      <td>0</td>\n",
       "      <td>0</td>\n",
       "      <td>0</td>\n",
       "      <td>0</td>\n",
       "      <td>0</td>\n",
       "      <td>0</td>\n",
       "      <td>No fatal</td>\n",
       "      <td>Cifras Definitivas</td>\n",
       "      <td>NaN</td>\n",
       "    </tr>\n",
       "    <tr>\n",
       "      <th>Municipal</th>\n",
       "      <td>1</td>\n",
       "      <td>1</td>\n",
       "      <td>2021</td>\n",
       "      <td>1</td>\n",
       "      <td>0</td>\n",
       "      <td>50</td>\n",
       "      <td>1</td>\n",
       "      <td>Viernes</td>\n",
       "      <td>Accidente en intersección</td>\n",
       "      <td>Sin accidente en esta zona</td>\n",
       "      <td>...</td>\n",
       "      <td>1</td>\n",
       "      <td>0</td>\n",
       "      <td>0</td>\n",
       "      <td>0</td>\n",
       "      <td>0</td>\n",
       "      <td>0</td>\n",
       "      <td>0</td>\n",
       "      <td>No fatal</td>\n",
       "      <td>Cifras Definitivas</td>\n",
       "      <td>NaN</td>\n",
       "    </tr>\n",
       "  </tbody>\n",
       "</table>\n",
       "<p>5 rows × 45 columns</p>\n",
       "</div>"
      ],
      "text/plain": [
       "           COBERTURA  ID_ENTIDAD  ID_MUNICIPIO  ANIO  MES  ID_HORA  ID_MINUTO  \\\n",
       "Municipal          1           1          2021     1    0        0          1   \n",
       "Municipal          1           1          2021     1    0        0          1   \n",
       "Municipal          1           1          2021     1    0        0          1   \n",
       "Municipal          1           1          2021     1    0        0          1   \n",
       "Municipal          1           1          2021     1    0       50          1   \n",
       "\n",
       "            ID_DIA                  DIASEMANA                      URBANA  \\\n",
       "Municipal  Viernes  Accidente en intersección  Sin accidente en esta zona   \n",
       "Municipal  Viernes  Accidente en intersección  Sin accidente en esta zona   \n",
       "Municipal  Viernes  Accidente en intersección  Sin accidente en esta zona   \n",
       "Municipal  Viernes  Accidente en intersección  Sin accidente en esta zona   \n",
       "Municipal  Viernes  Accidente en intersección  Sin accidente en esta zona   \n",
       "\n",
       "           ... PEATMUERTO  PEATHERIDO  CICLMUERTO  CICLHERIDO  OTROMUERTO  \\\n",
       "Municipal  ...          0           0           0           0           0   \n",
       "Municipal  ...          0           0           0           0           0   \n",
       "Municipal  ...          0           0           0           0           0   \n",
       "Municipal  ...          0           0           0           0           0   \n",
       "Municipal  ...          1           0           0           0           0   \n",
       "\n",
       "           OTROHERIDO  NEMUERTO    NEHERIDO             CLASACC  ESTATUS  \n",
       "Municipal           0         0  Sólo daños  Cifras Definitivas      NaN  \n",
       "Municipal           0         0  Sólo daños  Cifras Definitivas      NaN  \n",
       "Municipal           0         0       Fatal  Cifras Definitivas      NaN  \n",
       "Municipal           0         0    No fatal  Cifras Definitivas      NaN  \n",
       "Municipal           0         0    No fatal  Cifras Definitivas      NaN  \n",
       "\n",
       "[5 rows x 45 columns]"
      ]
     },
     "execution_count": 100,
     "metadata": {},
     "output_type": "execute_result"
    }
   ],
   "source": [
    "df_atus_2021.head()"
   ]
  },
  {
   "cell_type": "code",
   "execution_count": 101,
   "id": "fdcf2619",
   "metadata": {},
   "outputs": [
    {
     "data": {
      "text/plain": [
       "Index(['Municipal'], dtype='object')"
      ]
     },
     "execution_count": 101,
     "metadata": {},
     "output_type": "execute_result"
    }
   ],
   "source": [
    "df_atus_2021.index.unique()"
   ]
  },
  {
   "cell_type": "code",
   "execution_count": 102,
   "id": "5f19ed51",
   "metadata": {},
   "outputs": [],
   "source": [
    "columns = df_atus_2021.columns.to_list()\n",
    "columns; "
   ]
  },
  {
   "cell_type": "code",
   "execution_count": 103,
   "id": "19e74fe9",
   "metadata": {},
   "outputs": [],
   "source": [
    "df_atus_2021.reset_index(inplace=True)"
   ]
  },
  {
   "cell_type": "code",
   "execution_count": 104,
   "id": "4f594756",
   "metadata": {},
   "outputs": [],
   "source": [
    "df_atus_2021.columns = [x for x in range(len(columns)+1)]"
   ]
  },
  {
   "cell_type": "code",
   "execution_count": 105,
   "id": "f82b587a",
   "metadata": {},
   "outputs": [
    {
     "data": {
      "text/html": [
       "<div>\n",
       "<style scoped>\n",
       "    .dataframe tbody tr th:only-of-type {\n",
       "        vertical-align: middle;\n",
       "    }\n",
       "\n",
       "    .dataframe tbody tr th {\n",
       "        vertical-align: top;\n",
       "    }\n",
       "\n",
       "    .dataframe thead th {\n",
       "        text-align: right;\n",
       "    }\n",
       "</style>\n",
       "<table border=\"1\" class=\"dataframe\">\n",
       "  <thead>\n",
       "    <tr style=\"text-align: right;\">\n",
       "      <th></th>\n",
       "      <th>0</th>\n",
       "      <th>1</th>\n",
       "      <th>2</th>\n",
       "      <th>3</th>\n",
       "      <th>4</th>\n",
       "      <th>5</th>\n",
       "      <th>6</th>\n",
       "      <th>7</th>\n",
       "      <th>8</th>\n",
       "      <th>9</th>\n",
       "      <th>...</th>\n",
       "      <th>36</th>\n",
       "      <th>37</th>\n",
       "      <th>38</th>\n",
       "      <th>39</th>\n",
       "      <th>40</th>\n",
       "      <th>41</th>\n",
       "      <th>42</th>\n",
       "      <th>43</th>\n",
       "      <th>44</th>\n",
       "      <th>45</th>\n",
       "    </tr>\n",
       "  </thead>\n",
       "  <tbody>\n",
       "    <tr>\n",
       "      <th>0</th>\n",
       "      <td>Municipal</td>\n",
       "      <td>1</td>\n",
       "      <td>1</td>\n",
       "      <td>2021</td>\n",
       "      <td>1</td>\n",
       "      <td>0</td>\n",
       "      <td>0</td>\n",
       "      <td>1</td>\n",
       "      <td>Viernes</td>\n",
       "      <td>Accidente en intersección</td>\n",
       "      <td>...</td>\n",
       "      <td>0</td>\n",
       "      <td>0</td>\n",
       "      <td>0</td>\n",
       "      <td>0</td>\n",
       "      <td>0</td>\n",
       "      <td>0</td>\n",
       "      <td>0</td>\n",
       "      <td>Sólo daños</td>\n",
       "      <td>Cifras Definitivas</td>\n",
       "      <td>NaN</td>\n",
       "    </tr>\n",
       "    <tr>\n",
       "      <th>1</th>\n",
       "      <td>Municipal</td>\n",
       "      <td>1</td>\n",
       "      <td>1</td>\n",
       "      <td>2021</td>\n",
       "      <td>1</td>\n",
       "      <td>0</td>\n",
       "      <td>0</td>\n",
       "      <td>1</td>\n",
       "      <td>Viernes</td>\n",
       "      <td>Accidente en intersección</td>\n",
       "      <td>...</td>\n",
       "      <td>0</td>\n",
       "      <td>0</td>\n",
       "      <td>0</td>\n",
       "      <td>0</td>\n",
       "      <td>0</td>\n",
       "      <td>0</td>\n",
       "      <td>0</td>\n",
       "      <td>Sólo daños</td>\n",
       "      <td>Cifras Definitivas</td>\n",
       "      <td>NaN</td>\n",
       "    </tr>\n",
       "    <tr>\n",
       "      <th>2</th>\n",
       "      <td>Municipal</td>\n",
       "      <td>1</td>\n",
       "      <td>1</td>\n",
       "      <td>2021</td>\n",
       "      <td>1</td>\n",
       "      <td>0</td>\n",
       "      <td>0</td>\n",
       "      <td>1</td>\n",
       "      <td>Viernes</td>\n",
       "      <td>Accidente en intersección</td>\n",
       "      <td>...</td>\n",
       "      <td>0</td>\n",
       "      <td>0</td>\n",
       "      <td>0</td>\n",
       "      <td>0</td>\n",
       "      <td>0</td>\n",
       "      <td>0</td>\n",
       "      <td>0</td>\n",
       "      <td>Fatal</td>\n",
       "      <td>Cifras Definitivas</td>\n",
       "      <td>NaN</td>\n",
       "    </tr>\n",
       "    <tr>\n",
       "      <th>3</th>\n",
       "      <td>Municipal</td>\n",
       "      <td>1</td>\n",
       "      <td>1</td>\n",
       "      <td>2021</td>\n",
       "      <td>1</td>\n",
       "      <td>0</td>\n",
       "      <td>0</td>\n",
       "      <td>1</td>\n",
       "      <td>Viernes</td>\n",
       "      <td>Accidente en intersección</td>\n",
       "      <td>...</td>\n",
       "      <td>0</td>\n",
       "      <td>0</td>\n",
       "      <td>0</td>\n",
       "      <td>0</td>\n",
       "      <td>0</td>\n",
       "      <td>0</td>\n",
       "      <td>0</td>\n",
       "      <td>No fatal</td>\n",
       "      <td>Cifras Definitivas</td>\n",
       "      <td>NaN</td>\n",
       "    </tr>\n",
       "    <tr>\n",
       "      <th>4</th>\n",
       "      <td>Municipal</td>\n",
       "      <td>1</td>\n",
       "      <td>1</td>\n",
       "      <td>2021</td>\n",
       "      <td>1</td>\n",
       "      <td>0</td>\n",
       "      <td>50</td>\n",
       "      <td>1</td>\n",
       "      <td>Viernes</td>\n",
       "      <td>Accidente en intersección</td>\n",
       "      <td>...</td>\n",
       "      <td>1</td>\n",
       "      <td>0</td>\n",
       "      <td>0</td>\n",
       "      <td>0</td>\n",
       "      <td>0</td>\n",
       "      <td>0</td>\n",
       "      <td>0</td>\n",
       "      <td>No fatal</td>\n",
       "      <td>Cifras Definitivas</td>\n",
       "      <td>NaN</td>\n",
       "    </tr>\n",
       "  </tbody>\n",
       "</table>\n",
       "<p>5 rows × 46 columns</p>\n",
       "</div>"
      ],
      "text/plain": [
       "          0   1   2     3   4   5   6   7        8   \\\n",
       "0  Municipal   1   1  2021   1   0   0   1  Viernes   \n",
       "1  Municipal   1   1  2021   1   0   0   1  Viernes   \n",
       "2  Municipal   1   1  2021   1   0   0   1  Viernes   \n",
       "3  Municipal   1   1  2021   1   0   0   1  Viernes   \n",
       "4  Municipal   1   1  2021   1   0  50   1  Viernes   \n",
       "\n",
       "                          9   ... 36 37  38  39  40  41  42          43  \\\n",
       "0  Accidente en intersección  ...  0  0   0   0   0   0   0  Sólo daños   \n",
       "1  Accidente en intersección  ...  0  0   0   0   0   0   0  Sólo daños   \n",
       "2  Accidente en intersección  ...  0  0   0   0   0   0   0       Fatal   \n",
       "3  Accidente en intersección  ...  0  0   0   0   0   0   0    No fatal   \n",
       "4  Accidente en intersección  ...  1  0   0   0   0   0   0    No fatal   \n",
       "\n",
       "                   44  45  \n",
       "0  Cifras Definitivas NaN  \n",
       "1  Cifras Definitivas NaN  \n",
       "2  Cifras Definitivas NaN  \n",
       "3  Cifras Definitivas NaN  \n",
       "4  Cifras Definitivas NaN  \n",
       "\n",
       "[5 rows x 46 columns]"
      ]
     },
     "execution_count": 105,
     "metadata": {},
     "output_type": "execute_result"
    }
   ],
   "source": [
    "df_atus_2021.head()"
   ]
  },
  {
   "cell_type": "code",
   "execution_count": 106,
   "id": "824a3e63",
   "metadata": {},
   "outputs": [],
   "source": [
    "df_atus_2021.columns = columns + ['trol']\n",
    "df_atus_2021.drop(columns='trol', inplace=True)"
   ]
  },
  {
   "cell_type": "code",
   "execution_count": 107,
   "id": "2961ba28",
   "metadata": {},
   "outputs": [
    {
     "data": {
      "text/html": [
       "<div>\n",
       "<style scoped>\n",
       "    .dataframe tbody tr th:only-of-type {\n",
       "        vertical-align: middle;\n",
       "    }\n",
       "\n",
       "    .dataframe tbody tr th {\n",
       "        vertical-align: top;\n",
       "    }\n",
       "\n",
       "    .dataframe thead th {\n",
       "        text-align: right;\n",
       "    }\n",
       "</style>\n",
       "<table border=\"1\" class=\"dataframe\">\n",
       "  <thead>\n",
       "    <tr style=\"text-align: right;\">\n",
       "      <th></th>\n",
       "      <th>COBERTURA</th>\n",
       "      <th>ID_ENTIDAD</th>\n",
       "      <th>ID_MUNICIPIO</th>\n",
       "      <th>ANIO</th>\n",
       "      <th>MES</th>\n",
       "      <th>ID_HORA</th>\n",
       "      <th>ID_MINUTO</th>\n",
       "      <th>ID_DIA</th>\n",
       "      <th>DIASEMANA</th>\n",
       "      <th>URBANA</th>\n",
       "      <th>...</th>\n",
       "      <th>PEATMUERTO</th>\n",
       "      <th>PEATHERIDO</th>\n",
       "      <th>CICLMUERTO</th>\n",
       "      <th>CICLHERIDO</th>\n",
       "      <th>OTROMUERTO</th>\n",
       "      <th>OTROHERIDO</th>\n",
       "      <th>NEMUERTO</th>\n",
       "      <th>NEHERIDO</th>\n",
       "      <th>CLASACC</th>\n",
       "      <th>ESTATUS</th>\n",
       "    </tr>\n",
       "  </thead>\n",
       "  <tbody>\n",
       "    <tr>\n",
       "      <th>0</th>\n",
       "      <td>Municipal</td>\n",
       "      <td>1</td>\n",
       "      <td>1</td>\n",
       "      <td>2021</td>\n",
       "      <td>1</td>\n",
       "      <td>0</td>\n",
       "      <td>0</td>\n",
       "      <td>1</td>\n",
       "      <td>Viernes</td>\n",
       "      <td>Accidente en intersección</td>\n",
       "      <td>...</td>\n",
       "      <td>0</td>\n",
       "      <td>0</td>\n",
       "      <td>0</td>\n",
       "      <td>0</td>\n",
       "      <td>0</td>\n",
       "      <td>0</td>\n",
       "      <td>0</td>\n",
       "      <td>0</td>\n",
       "      <td>Sólo daños</td>\n",
       "      <td>Cifras Definitivas</td>\n",
       "    </tr>\n",
       "    <tr>\n",
       "      <th>1</th>\n",
       "      <td>Municipal</td>\n",
       "      <td>1</td>\n",
       "      <td>1</td>\n",
       "      <td>2021</td>\n",
       "      <td>1</td>\n",
       "      <td>0</td>\n",
       "      <td>0</td>\n",
       "      <td>1</td>\n",
       "      <td>Viernes</td>\n",
       "      <td>Accidente en intersección</td>\n",
       "      <td>...</td>\n",
       "      <td>0</td>\n",
       "      <td>0</td>\n",
       "      <td>0</td>\n",
       "      <td>0</td>\n",
       "      <td>0</td>\n",
       "      <td>0</td>\n",
       "      <td>0</td>\n",
       "      <td>0</td>\n",
       "      <td>Sólo daños</td>\n",
       "      <td>Cifras Definitivas</td>\n",
       "    </tr>\n",
       "    <tr>\n",
       "      <th>2</th>\n",
       "      <td>Municipal</td>\n",
       "      <td>1</td>\n",
       "      <td>1</td>\n",
       "      <td>2021</td>\n",
       "      <td>1</td>\n",
       "      <td>0</td>\n",
       "      <td>0</td>\n",
       "      <td>1</td>\n",
       "      <td>Viernes</td>\n",
       "      <td>Accidente en intersección</td>\n",
       "      <td>...</td>\n",
       "      <td>1</td>\n",
       "      <td>0</td>\n",
       "      <td>0</td>\n",
       "      <td>0</td>\n",
       "      <td>0</td>\n",
       "      <td>0</td>\n",
       "      <td>0</td>\n",
       "      <td>0</td>\n",
       "      <td>Fatal</td>\n",
       "      <td>Cifras Definitivas</td>\n",
       "    </tr>\n",
       "    <tr>\n",
       "      <th>3</th>\n",
       "      <td>Municipal</td>\n",
       "      <td>1</td>\n",
       "      <td>1</td>\n",
       "      <td>2021</td>\n",
       "      <td>1</td>\n",
       "      <td>0</td>\n",
       "      <td>0</td>\n",
       "      <td>1</td>\n",
       "      <td>Viernes</td>\n",
       "      <td>Accidente en intersección</td>\n",
       "      <td>...</td>\n",
       "      <td>0</td>\n",
       "      <td>0</td>\n",
       "      <td>0</td>\n",
       "      <td>0</td>\n",
       "      <td>0</td>\n",
       "      <td>0</td>\n",
       "      <td>0</td>\n",
       "      <td>0</td>\n",
       "      <td>No fatal</td>\n",
       "      <td>Cifras Definitivas</td>\n",
       "    </tr>\n",
       "    <tr>\n",
       "      <th>4</th>\n",
       "      <td>Municipal</td>\n",
       "      <td>1</td>\n",
       "      <td>1</td>\n",
       "      <td>2021</td>\n",
       "      <td>1</td>\n",
       "      <td>0</td>\n",
       "      <td>50</td>\n",
       "      <td>1</td>\n",
       "      <td>Viernes</td>\n",
       "      <td>Accidente en intersección</td>\n",
       "      <td>...</td>\n",
       "      <td>0</td>\n",
       "      <td>1</td>\n",
       "      <td>0</td>\n",
       "      <td>0</td>\n",
       "      <td>0</td>\n",
       "      <td>0</td>\n",
       "      <td>0</td>\n",
       "      <td>0</td>\n",
       "      <td>No fatal</td>\n",
       "      <td>Cifras Definitivas</td>\n",
       "    </tr>\n",
       "  </tbody>\n",
       "</table>\n",
       "<p>5 rows × 45 columns</p>\n",
       "</div>"
      ],
      "text/plain": [
       "   COBERTURA  ID_ENTIDAD  ID_MUNICIPIO  ANIO  MES  ID_HORA  ID_MINUTO  ID_DIA  \\\n",
       "0  Municipal           1             1  2021    1        0          0       1   \n",
       "1  Municipal           1             1  2021    1        0          0       1   \n",
       "2  Municipal           1             1  2021    1        0          0       1   \n",
       "3  Municipal           1             1  2021    1        0          0       1   \n",
       "4  Municipal           1             1  2021    1        0         50       1   \n",
       "\n",
       "  DIASEMANA                     URBANA  ... PEATMUERTO PEATHERIDO  CICLMUERTO  \\\n",
       "0   Viernes  Accidente en intersección  ...          0          0           0   \n",
       "1   Viernes  Accidente en intersección  ...          0          0           0   \n",
       "2   Viernes  Accidente en intersección  ...          1          0           0   \n",
       "3   Viernes  Accidente en intersección  ...          0          0           0   \n",
       "4   Viernes  Accidente en intersección  ...          0          1           0   \n",
       "\n",
       "   CICLHERIDO  OTROMUERTO  OTROHERIDO  NEMUERTO  NEHERIDO     CLASACC  \\\n",
       "0           0           0           0         0         0  Sólo daños   \n",
       "1           0           0           0         0         0  Sólo daños   \n",
       "2           0           0           0         0         0       Fatal   \n",
       "3           0           0           0         0         0    No fatal   \n",
       "4           0           0           0         0         0    No fatal   \n",
       "\n",
       "              ESTATUS  \n",
       "0  Cifras Definitivas  \n",
       "1  Cifras Definitivas  \n",
       "2  Cifras Definitivas  \n",
       "3  Cifras Definitivas  \n",
       "4  Cifras Definitivas  \n",
       "\n",
       "[5 rows x 45 columns]"
      ]
     },
     "execution_count": 107,
     "metadata": {},
     "output_type": "execute_result"
    }
   ],
   "source": [
    "df_atus_2021.head()"
   ]
  },
  {
   "cell_type": "code",
   "execution_count": 110,
   "id": "bb9f7e29",
   "metadata": {},
   "outputs": [],
   "source": [
    "df_hmo_2021 = df_atus_2021[\n",
    "    (df_atus_2021['ID_ENTIDAD'] == id_hmo.get('id_entidad', 26)) &\n",
    "    (df_atus_2021['ID_MUNICIPIO'] == id_hmo.get('id_municipio', 30))\n",
    "]"
   ]
  },
  {
   "cell_type": "code",
   "execution_count": 112,
   "id": "907ff943",
   "metadata": {},
   "outputs": [
    {
     "name": "stdout",
     "output_type": "stream",
     "text": [
      "<class 'pandas.core.frame.DataFrame'>\n",
      "Index: 8693 entries, 301394 to 310086\n",
      "Data columns (total 45 columns):\n",
      " #   Column        Non-Null Count  Dtype \n",
      "---  ------        --------------  ----- \n",
      " 0   COBERTURA     8693 non-null   object\n",
      " 1   ID_ENTIDAD    8693 non-null   int64 \n",
      " 2   ID_MUNICIPIO  8693 non-null   int64 \n",
      " 3   ANIO          8693 non-null   int64 \n",
      " 4   MES           8693 non-null   int64 \n",
      " 5   ID_HORA       8693 non-null   int64 \n",
      " 6   ID_MINUTO     8693 non-null   int64 \n",
      " 7   ID_DIA        8693 non-null   int64 \n",
      " 8   DIASEMANA     8693 non-null   object\n",
      " 9   URBANA        8693 non-null   object\n",
      " 10  SUBURBANA     8693 non-null   object\n",
      " 11  TIPACCID      8693 non-null   object\n",
      " 12  AUTOMOVIL     8693 non-null   int64 \n",
      " 13  CAMPASAJ      8693 non-null   int64 \n",
      " 14  MICROBUS      8693 non-null   int64 \n",
      " 15  PASCAMION     8693 non-null   int64 \n",
      " 16  OMNIBUS       8693 non-null   int64 \n",
      " 17  TRANVIA       8693 non-null   int64 \n",
      " 18  CAMIONETA     8693 non-null   int64 \n",
      " 19  CAMION        8693 non-null   int64 \n",
      " 20  TRACTOR       8693 non-null   int64 \n",
      " 21  FERROCARRI    8693 non-null   int64 \n",
      " 22  MOTOCICLET    8693 non-null   int64 \n",
      " 23  BICICLETA     8693 non-null   int64 \n",
      " 24  OTROVEHIC     8693 non-null   int64 \n",
      " 25  CAUSAACCI     8693 non-null   object\n",
      " 26  CAPAROD       8693 non-null   object\n",
      " 27  SEXO          8693 non-null   object\n",
      " 28  ALIENTO       8693 non-null   object\n",
      " 29  CINTURON      8693 non-null   object\n",
      " 30  ID_EDAD       8693 non-null   int64 \n",
      " 31  CONDMUERTO    8693 non-null   int64 \n",
      " 32  CONDHERIDO    8693 non-null   int64 \n",
      " 33  PASAMUERTO    8693 non-null   int64 \n",
      " 34  PASAHERIDO    8693 non-null   int64 \n",
      " 35  PEATMUERTO    8693 non-null   int64 \n",
      " 36  PEATHERIDO    8693 non-null   int64 \n",
      " 37  CICLMUERTO    8693 non-null   int64 \n",
      " 38  CICLHERIDO    8693 non-null   int64 \n",
      " 39  OTROMUERTO    8693 non-null   int64 \n",
      " 40  OTROHERIDO    8693 non-null   int64 \n",
      " 41  NEMUERTO      8693 non-null   int64 \n",
      " 42  NEHERIDO      8693 non-null   int64 \n",
      " 43  CLASACC       8693 non-null   object\n",
      " 44  ESTATUS       8693 non-null   object\n",
      "dtypes: int64(33), object(12)\n",
      "memory usage: 3.1+ MB\n"
     ]
    }
   ],
   "source": [
    "df_hmo_2021.info()"
   ]
  },
  {
   "cell_type": "code",
   "execution_count": 111,
   "id": "d62903e6",
   "metadata": {},
   "outputs": [
    {
     "data": {
      "text/plain": [
       "DIASEMANA\n",
       "Viernes      1504\n",
       "Sabado       1419\n",
       "Jueves       1306\n",
       "Miercoles    1182\n",
       "Martes       1156\n",
       "lunes        1075\n",
       "Domingo      1051\n",
       "Name: count, dtype: int64"
      ]
     },
     "execution_count": 111,
     "metadata": {},
     "output_type": "execute_result"
    }
   ],
   "source": [
    "df_hmo_2021['DIASEMANA'].value_counts()"
   ]
  },
  {
   "cell_type": "code",
   "execution_count": 113,
   "id": "509ec3e7",
   "metadata": {},
   "outputs": [
    {
     "data": {
      "text/plain": [
       "ID_HORA\n",
       "14    776\n",
       "17    659\n",
       "16    655\n",
       "15    644\n",
       "18    590\n",
       "19    557\n",
       "8     507\n",
       "12    476\n",
       "11    451\n",
       "10    443\n",
       "9     440\n",
       "20    420\n",
       "13    376\n",
       "22    299\n",
       "7     254\n",
       "21    221\n",
       "23    189\n",
       "0     149\n",
       "6     149\n",
       "1     128\n",
       "2     101\n",
       "3      72\n",
       "4      70\n",
       "5      67\n",
       "Name: count, dtype: int64"
      ]
     },
     "execution_count": 113,
     "metadata": {},
     "output_type": "execute_result"
    }
   ],
   "source": [
    "df_hmo_2021['ID_HORA'].value_counts()"
   ]
  },
  {
   "cell_type": "code",
   "execution_count": 115,
   "id": "b64d5562",
   "metadata": {},
   "outputs": [
    {
     "data": {
      "text/plain": [
       "array(['Sin accidente en esta zona', 'Accidente en intersección',\n",
       "       'Accidente en no intersección'], dtype=object)"
      ]
     },
     "execution_count": 115,
     "metadata": {},
     "output_type": "execute_result"
    }
   ],
   "source": [
    "df_hmo_2021['URBANA'].unique()"
   ]
  },
  {
   "cell_type": "code",
   "execution_count": 116,
   "id": "7cbda6af",
   "metadata": {},
   "outputs": [
    {
     "data": {
      "text/plain": [
       "array(['No fatal', 'Sólo daños', 'Fatal'], dtype=object)"
      ]
     },
     "execution_count": 116,
     "metadata": {},
     "output_type": "execute_result"
    }
   ],
   "source": [
    "df_hmo_2021['CLASACC'].unique()"
   ]
  },
  {
   "cell_type": "code",
   "execution_count": 117,
   "id": "23e8ce98",
   "metadata": {},
   "outputs": [
    {
     "data": {
      "text/plain": [
       "CLASACC\n",
       "Sólo daños    7608\n",
       "No fatal      1048\n",
       "Fatal           37\n",
       "Name: count, dtype: int64"
      ]
     },
     "execution_count": 117,
     "metadata": {},
     "output_type": "execute_result"
    }
   ],
   "source": [
    "df_hmo_2021['CLASACC'].value_counts()"
   ]
  },
  {
   "cell_type": "code",
   "execution_count": 118,
   "id": "bf42cece",
   "metadata": {},
   "outputs": [
    {
     "data": {
      "text/plain": [
       "array(['Cifras Definitivas'], dtype=object)"
      ]
     },
     "execution_count": 118,
     "metadata": {},
     "output_type": "execute_result"
    }
   ],
   "source": [
    "df_hmo_2021['ESTATUS'].unique()"
   ]
  },
  {
   "cell_type": "markdown",
   "id": "857d1d04",
   "metadata": {},
   "source": [
    "## Datos Georeferenciados"
   ]
  },
  {
   "cell_type": "markdown",
   "id": "0df5b105",
   "metadata": {},
   "source": [
    "### Descarga"
   ]
  },
  {
   "cell_type": "code",
   "execution_count": 119,
   "id": "15573f4d",
   "metadata": {},
   "outputs": [
    {
     "name": "stdout",
     "output_type": "stream",
     "text": [
      "atus_1997-2024\n",
      "atus_1997-2024.zip\n",
      "atus_2021_shp.zip\n"
     ]
    }
   ],
   "source": [
    "for item in RAW.iterdir(): \n",
    "    print(item.relative_to(RAW))"
   ]
  },
  {
   "cell_type": "code",
   "execution_count": 121,
   "id": "eb924726",
   "metadata": {},
   "outputs": [],
   "source": [
    "shp_2021_path = RAW / \"atus_2021_shp.zip\"\n",
    "outdir_shp_2021 = RAW / \"atus_2021_shp\"\n",
    "outdir_shp_2021.mkdir(exist_ok=True)\n",
    "\n",
    "if not any(outdir_shp_2021.iterdir()): \n",
    "    with zipfile.ZipFile(shp_2021_path, 'r') as zfile: \n",
    "        zfile.extractall(path=outdir_shp_2021)"
   ]
  },
  {
   "cell_type": "code",
   "execution_count": 125,
   "id": "a0ac4360",
   "metadata": {},
   "outputs": [
    {
     "name": "stdout",
     "output_type": "stream",
     "text": [
      "ATUS_2021\\conjunto_de_datos\\BASE MUNICIPAL_ACCIDENTES DE TRANSITO GEORREFERENCIADOS_2021.shp\n"
     ]
    }
   ],
   "source": [
    "for shp in outdir_shp_2021.rglob(\"*.shp\"):\n",
    "    print(shp.relative_to(outdir_shp_2021))"
   ]
  },
  {
   "cell_type": "code",
   "execution_count": 128,
   "metadata": {},
   "outputs": [
    {
     "data": {
      "text/plain": [
       "(True, True)"
      ]
     },
     "execution_count": 128,
     "metadata": {},
     "output_type": "execute_result"
    }
   ],
   "source": [
    "shppath = outdir_shp_2021.joinpath(r\"ATUS_2021\\conjunto_de_datos\\BASE MUNICIPAL_ACCIDENTES DE TRANSITO GEORREFERENCIADOS_2021.shp\")\n",
    "shppath.exists(), shppath.is_file()"
   ]
  },
  {
   "cell_type": "code",
   "execution_count": 131,
   "id": "3d180964",
   "metadata": {},
   "outputs": [
    {
     "name": "stderr",
     "output_type": "stream",
     "text": [
      "c:\\Users\\isaul\\Documents\\repos\\accidentes\\.venv\\Lib\\site-packages\\pyogrio\\raw.py:198: RuntimeWarning: One or several characters couldn't be converted correctly from CP1252 to UTF-8. This warning will not be emitted anymore\n",
      "  return ogr_read(\n"
     ]
    }
   ],
   "source": [
    "df_geo_2021 = gpd.read_file(shppath)"
   ]
  },
  {
   "cell_type": "code",
   "execution_count": 132,
   "id": "8e187ab3",
   "metadata": {},
   "outputs": [
    {
     "data": {
      "text/html": [
       "<div>\n",
       "<style scoped>\n",
       "    .dataframe tbody tr th:only-of-type {\n",
       "        vertical-align: middle;\n",
       "    }\n",
       "\n",
       "    .dataframe tbody tr th {\n",
       "        vertical-align: top;\n",
       "    }\n",
       "\n",
       "    .dataframe thead th {\n",
       "        text-align: right;\n",
       "    }\n",
       "</style>\n",
       "<table border=\"1\" class=\"dataframe\">\n",
       "  <thead>\n",
       "    <tr style=\"text-align: right;\">\n",
       "      <th></th>\n",
       "      <th>ID</th>\n",
       "      <th>EDO</th>\n",
       "      <th>MES</th>\n",
       "      <th>ANIO</th>\n",
       "      <th>MPIO</th>\n",
       "      <th>HORA</th>\n",
       "      <th>MINUTOS</th>\n",
       "      <th>DIA</th>\n",
       "      <th>DIASEMANA</th>\n",
       "      <th>URBANA</th>\n",
       "      <th>...</th>\n",
       "      <th>TOTMUERTOS</th>\n",
       "      <th>TOTHERIDOS</th>\n",
       "      <th>CLASE</th>\n",
       "      <th>CALLE1</th>\n",
       "      <th>CALLE2</th>\n",
       "      <th>CARRETERA</th>\n",
       "      <th>LONGITUD</th>\n",
       "      <th>LATITUD</th>\n",
       "      <th>OID</th>\n",
       "      <th>geometry</th>\n",
       "    </tr>\n",
       "  </thead>\n",
       "  <tbody>\n",
       "    <tr>\n",
       "      <th>0</th>\n",
       "      <td>1009255-112-190821532</td>\n",
       "      <td>1</td>\n",
       "      <td>1</td>\n",
       "      <td>2021</td>\n",
       "      <td>1</td>\n",
       "      <td>0</td>\n",
       "      <td>0</td>\n",
       "      <td>1</td>\n",
       "      <td>5</td>\n",
       "      <td>1</td>\n",
       "      <td>...</td>\n",
       "      <td>0</td>\n",
       "      <td>0</td>\n",
       "      <td>3</td>\n",
       "      <td>AGUASCALIENTES ORIENTE</td>\n",
       "      <td>AJONJOLÍ</td>\n",
       "      <td>None</td>\n",
       "      <td>-102.25252</td>\n",
       "      <td>21.86376</td>\n",
       "      <td>1</td>\n",
       "      <td>POINT (-102.25252 21.86376)</td>\n",
       "    </tr>\n",
       "    <tr>\n",
       "      <th>1</th>\n",
       "      <td>1009255-112-190821538</td>\n",
       "      <td>1</td>\n",
       "      <td>1</td>\n",
       "      <td>2021</td>\n",
       "      <td>1</td>\n",
       "      <td>0</td>\n",
       "      <td>0</td>\n",
       "      <td>1</td>\n",
       "      <td>5</td>\n",
       "      <td>1</td>\n",
       "      <td>...</td>\n",
       "      <td>0</td>\n",
       "      <td>0</td>\n",
       "      <td>3</td>\n",
       "      <td>PETRÓLEOS MEXICANOS</td>\n",
       "      <td>GENERAL IGNACIO ZARAGOZA</td>\n",
       "      <td>None</td>\n",
       "      <td>-102.29519</td>\n",
       "      <td>21.89120</td>\n",
       "      <td>2</td>\n",
       "      <td>POINT (-102.29519 21.8912)</td>\n",
       "    </tr>\n",
       "    <tr>\n",
       "      <th>2</th>\n",
       "      <td>1009255-112-190821641</td>\n",
       "      <td>1</td>\n",
       "      <td>1</td>\n",
       "      <td>2021</td>\n",
       "      <td>1</td>\n",
       "      <td>0</td>\n",
       "      <td>0</td>\n",
       "      <td>1</td>\n",
       "      <td>5</td>\n",
       "      <td>1</td>\n",
       "      <td>...</td>\n",
       "      <td>1</td>\n",
       "      <td>0</td>\n",
       "      <td>1</td>\n",
       "      <td>CONSTITUCIÓN</td>\n",
       "      <td>PASEO DE LA SOLIDARIDAD</td>\n",
       "      <td>None</td>\n",
       "      <td>-102.28652</td>\n",
       "      <td>21.91522</td>\n",
       "      <td>3</td>\n",
       "      <td>POINT (-102.28652 21.91522)</td>\n",
       "    </tr>\n",
       "    <tr>\n",
       "      <th>3</th>\n",
       "      <td>1009255-112-190821424</td>\n",
       "      <td>1</td>\n",
       "      <td>1</td>\n",
       "      <td>2021</td>\n",
       "      <td>1</td>\n",
       "      <td>0</td>\n",
       "      <td>0</td>\n",
       "      <td>1</td>\n",
       "      <td>5</td>\n",
       "      <td>1</td>\n",
       "      <td>...</td>\n",
       "      <td>0</td>\n",
       "      <td>1</td>\n",
       "      <td>2</td>\n",
       "      <td>PORFIRIO PADILLA ENRÍQUEZ</td>\n",
       "      <td>None</td>\n",
       "      <td>None</td>\n",
       "      <td>-102.25603</td>\n",
       "      <td>21.92720</td>\n",
       "      <td>4</td>\n",
       "      <td>POINT (-102.25603 21.9272)</td>\n",
       "    </tr>\n",
       "    <tr>\n",
       "      <th>4</th>\n",
       "      <td>1009255-112-190821428</td>\n",
       "      <td>1</td>\n",
       "      <td>1</td>\n",
       "      <td>2021</td>\n",
       "      <td>1</td>\n",
       "      <td>0</td>\n",
       "      <td>50</td>\n",
       "      <td>1</td>\n",
       "      <td>5</td>\n",
       "      <td>1</td>\n",
       "      <td>...</td>\n",
       "      <td>0</td>\n",
       "      <td>1</td>\n",
       "      <td>2</td>\n",
       "      <td>CULTURA OTOMÍ 408</td>\n",
       "      <td>CULTURA MAYA</td>\n",
       "      <td>None</td>\n",
       "      <td>-102.24423</td>\n",
       "      <td>21.90958</td>\n",
       "      <td>5</td>\n",
       "      <td>POINT (-102.24423 21.90958)</td>\n",
       "    </tr>\n",
       "  </tbody>\n",
       "</table>\n",
       "<p>5 rows × 51 columns</p>\n",
       "</div>"
      ],
      "text/plain": [
       "                      ID  EDO  MES  ANIO  MPIO  HORA  MINUTOS  DIA  DIASEMANA  \\\n",
       "0  1009255-112-190821532    1    1  2021     1     0        0    1          5   \n",
       "1  1009255-112-190821538    1    1  2021     1     0        0    1          5   \n",
       "2  1009255-112-190821641    1    1  2021     1     0        0    1          5   \n",
       "3  1009255-112-190821424    1    1  2021     1     0        0    1          5   \n",
       "4  1009255-112-190821428    1    1  2021     1     0       50    1          5   \n",
       "\n",
       "   URBANA  ...  TOTMUERTOS  TOTHERIDOS  CLASE                     CALLE1  \\\n",
       "0       1  ...           0           0      3     AGUASCALIENTES ORIENTE   \n",
       "1       1  ...           0           0      3        PETRÓLEOS MEXICANOS   \n",
       "2       1  ...           1           0      1               CONSTITUCIÓN   \n",
       "3       1  ...           0           1      2  PORFIRIO PADILLA ENRÍQUEZ   \n",
       "4       1  ...           0           1      2          CULTURA OTOMÍ 408   \n",
       "\n",
       "                     CALLE2  CARRETERA   LONGITUD   LATITUD  OID  \\\n",
       "0                  AJONJOLÍ       None -102.25252  21.86376    1   \n",
       "1  GENERAL IGNACIO ZARAGOZA       None -102.29519  21.89120    2   \n",
       "2   PASEO DE LA SOLIDARIDAD       None -102.28652  21.91522    3   \n",
       "3                      None       None -102.25603  21.92720    4   \n",
       "4              CULTURA MAYA       None -102.24423  21.90958    5   \n",
       "\n",
       "                      geometry  \n",
       "0  POINT (-102.25252 21.86376)  \n",
       "1   POINT (-102.29519 21.8912)  \n",
       "2  POINT (-102.28652 21.91522)  \n",
       "3   POINT (-102.25603 21.9272)  \n",
       "4  POINT (-102.24423 21.90958)  \n",
       "\n",
       "[5 rows x 51 columns]"
      ]
     },
     "execution_count": 132,
     "metadata": {},
     "output_type": "execute_result"
    }
   ],
   "source": [
    "df_geo_2021.head()"
   ]
  },
  {
   "cell_type": "code",
   "execution_count": 133,
   "id": "c3323fe1",
   "metadata": {},
   "outputs": [
    {
     "data": {
      "text/plain": [
       "{'id_entidad': 26, 'id_municipio': 30}"
      ]
     },
     "execution_count": 133,
     "metadata": {},
     "output_type": "execute_result"
    }
   ],
   "source": [
    "id_hmo"
   ]
  },
  {
   "cell_type": "code",
   "execution_count": 137,
   "id": "8ddfe522",
   "metadata": {},
   "outputs": [],
   "source": [
    "geo_hmo = df_geo_2021[\n",
    "    (df_geo_2021['EDO'] == 26) & \n",
    "    (df_geo_2021['MPIO'] == 30) \n",
    "]"
   ]
  },
  {
   "cell_type": "code",
   "execution_count": 138,
   "id": "4b709ba5",
   "metadata": {},
   "outputs": [
    {
     "data": {
      "text/html": [
       "<div>\n",
       "<style scoped>\n",
       "    .dataframe tbody tr th:only-of-type {\n",
       "        vertical-align: middle;\n",
       "    }\n",
       "\n",
       "    .dataframe tbody tr th {\n",
       "        vertical-align: top;\n",
       "    }\n",
       "\n",
       "    .dataframe thead th {\n",
       "        text-align: right;\n",
       "    }\n",
       "</style>\n",
       "<table border=\"1\" class=\"dataframe\">\n",
       "  <thead>\n",
       "    <tr style=\"text-align: right;\">\n",
       "      <th></th>\n",
       "      <th>ID</th>\n",
       "      <th>EDO</th>\n",
       "      <th>MES</th>\n",
       "      <th>ANIO</th>\n",
       "      <th>MPIO</th>\n",
       "      <th>HORA</th>\n",
       "      <th>MINUTOS</th>\n",
       "      <th>DIA</th>\n",
       "      <th>DIASEMANA</th>\n",
       "      <th>URBANA</th>\n",
       "      <th>...</th>\n",
       "      <th>TOTMUERTOS</th>\n",
       "      <th>TOTHERIDOS</th>\n",
       "      <th>CLASE</th>\n",
       "      <th>CALLE1</th>\n",
       "      <th>CALLE2</th>\n",
       "      <th>CARRETERA</th>\n",
       "      <th>LONGITUD</th>\n",
       "      <th>LATITUD</th>\n",
       "      <th>OID</th>\n",
       "      <th>geometry</th>\n",
       "    </tr>\n",
       "  </thead>\n",
       "  <tbody>\n",
       "    <tr>\n",
       "      <th>117874</th>\n",
       "      <td>1006278-999-0</td>\n",
       "      <td>26</td>\n",
       "      <td>1</td>\n",
       "      <td>2021</td>\n",
       "      <td>30</td>\n",
       "      <td>5</td>\n",
       "      <td>0</td>\n",
       "      <td>1</td>\n",
       "      <td>5</td>\n",
       "      <td>0</td>\n",
       "      <td>...</td>\n",
       "      <td>0</td>\n",
       "      <td>1</td>\n",
       "      <td>2</td>\n",
       "      <td>HERMOSILLO - BAHÍA KINO</td>\n",
       "      <td>CARRETERA 100</td>\n",
       "      <td>HERMOSILLO - BAHÍA KINO</td>\n",
       "      <td>-111.17558</td>\n",
       "      <td>29.00564</td>\n",
       "      <td>117875</td>\n",
       "      <td>POINT (-111.17558 29.00564)</td>\n",
       "    </tr>\n",
       "    <tr>\n",
       "      <th>117875</th>\n",
       "      <td>1006278-999-1</td>\n",
       "      <td>26</td>\n",
       "      <td>1</td>\n",
       "      <td>2021</td>\n",
       "      <td>30</td>\n",
       "      <td>14</td>\n",
       "      <td>55</td>\n",
       "      <td>1</td>\n",
       "      <td>5</td>\n",
       "      <td>1</td>\n",
       "      <td>...</td>\n",
       "      <td>0</td>\n",
       "      <td>0</td>\n",
       "      <td>3</td>\n",
       "      <td>LEY FEDERAL DEL TRABAJO</td>\n",
       "      <td>ARIZONA</td>\n",
       "      <td>None</td>\n",
       "      <td>-110.97734</td>\n",
       "      <td>29.11893</td>\n",
       "      <td>117876</td>\n",
       "      <td>POINT (-110.97734 29.11893)</td>\n",
       "    </tr>\n",
       "    <tr>\n",
       "      <th>117876</th>\n",
       "      <td>1006278-999-2</td>\n",
       "      <td>26</td>\n",
       "      <td>1</td>\n",
       "      <td>2021</td>\n",
       "      <td>30</td>\n",
       "      <td>15</td>\n",
       "      <td>20</td>\n",
       "      <td>1</td>\n",
       "      <td>5</td>\n",
       "      <td>1</td>\n",
       "      <td>...</td>\n",
       "      <td>0</td>\n",
       "      <td>0</td>\n",
       "      <td>3</td>\n",
       "      <td>SOLIDARIDAD</td>\n",
       "      <td>RICARDO VALENCIA Y SOUZA</td>\n",
       "      <td>None</td>\n",
       "      <td>-110.99451</td>\n",
       "      <td>29.13579</td>\n",
       "      <td>117877</td>\n",
       "      <td>POINT (-110.99451 29.13579)</td>\n",
       "    </tr>\n",
       "    <tr>\n",
       "      <th>117877</th>\n",
       "      <td>1006278-999-3</td>\n",
       "      <td>26</td>\n",
       "      <td>1</td>\n",
       "      <td>2021</td>\n",
       "      <td>30</td>\n",
       "      <td>22</td>\n",
       "      <td>30</td>\n",
       "      <td>1</td>\n",
       "      <td>5</td>\n",
       "      <td>1</td>\n",
       "      <td>...</td>\n",
       "      <td>0</td>\n",
       "      <td>0</td>\n",
       "      <td>3</td>\n",
       "      <td>TERCERA DE WISTARIA</td>\n",
       "      <td>LÁZARO MERCADO</td>\n",
       "      <td>None</td>\n",
       "      <td>-111.01642</td>\n",
       "      <td>29.12439</td>\n",
       "      <td>117878</td>\n",
       "      <td>POINT (-111.01642 29.12439)</td>\n",
       "    </tr>\n",
       "    <tr>\n",
       "      <th>117878</th>\n",
       "      <td>1006278-999-5</td>\n",
       "      <td>26</td>\n",
       "      <td>1</td>\n",
       "      <td>2021</td>\n",
       "      <td>30</td>\n",
       "      <td>8</td>\n",
       "      <td>45</td>\n",
       "      <td>2</td>\n",
       "      <td>6</td>\n",
       "      <td>0</td>\n",
       "      <td>...</td>\n",
       "      <td>0</td>\n",
       "      <td>0</td>\n",
       "      <td>3</td>\n",
       "      <td>HERMOSILLO - BAHÍA KINO</td>\n",
       "      <td>None</td>\n",
       "      <td>HERMOSILLO - BAHÍA KINO</td>\n",
       "      <td>-111.11552</td>\n",
       "      <td>29.05019</td>\n",
       "      <td>117879</td>\n",
       "      <td>POINT (-111.11552 29.05019)</td>\n",
       "    </tr>\n",
       "  </tbody>\n",
       "</table>\n",
       "<p>5 rows × 51 columns</p>\n",
       "</div>"
      ],
      "text/plain": [
       "                   ID  EDO  MES  ANIO  MPIO  HORA  MINUTOS  DIA  DIASEMANA  \\\n",
       "117874  1006278-999-0   26    1  2021    30     5        0    1          5   \n",
       "117875  1006278-999-1   26    1  2021    30    14       55    1          5   \n",
       "117876  1006278-999-2   26    1  2021    30    15       20    1          5   \n",
       "117877  1006278-999-3   26    1  2021    30    22       30    1          5   \n",
       "117878  1006278-999-5   26    1  2021    30     8       45    2          6   \n",
       "\n",
       "        URBANA  ...  TOTMUERTOS  TOTHERIDOS  CLASE                   CALLE1  \\\n",
       "117874       0  ...           0           1      2  HERMOSILLO - BAHÍA KINO   \n",
       "117875       1  ...           0           0      3  LEY FEDERAL DEL TRABAJO   \n",
       "117876       1  ...           0           0      3              SOLIDARIDAD   \n",
       "117877       1  ...           0           0      3      TERCERA DE WISTARIA   \n",
       "117878       0  ...           0           0      3  HERMOSILLO - BAHÍA KINO   \n",
       "\n",
       "                          CALLE2                CARRETERA   LONGITUD  \\\n",
       "117874             CARRETERA 100  HERMOSILLO - BAHÍA KINO -111.17558   \n",
       "117875                   ARIZONA                     None -110.97734   \n",
       "117876  RICARDO VALENCIA Y SOUZA                     None -110.99451   \n",
       "117877            LÁZARO MERCADO                     None -111.01642   \n",
       "117878                      None  HERMOSILLO - BAHÍA KINO -111.11552   \n",
       "\n",
       "         LATITUD     OID                     geometry  \n",
       "117874  29.00564  117875  POINT (-111.17558 29.00564)  \n",
       "117875  29.11893  117876  POINT (-110.97734 29.11893)  \n",
       "117876  29.13579  117877  POINT (-110.99451 29.13579)  \n",
       "117877  29.12439  117878  POINT (-111.01642 29.12439)  \n",
       "117878  29.05019  117879  POINT (-111.11552 29.05019)  \n",
       "\n",
       "[5 rows x 51 columns]"
      ]
     },
     "execution_count": 138,
     "metadata": {},
     "output_type": "execute_result"
    }
   ],
   "source": [
    "geo_hmo.head()"
   ]
  },
  {
   "cell_type": "code",
   "execution_count": null,
   "id": "dde54451",
   "metadata": {},
   "outputs": [],
   "source": []
  }
 ],
 "metadata": {
  "kernelspec": {
   "display_name": "accidentes",
   "language": "python",
   "name": "python3"
  },
  "language_info": {
   "codemirror_mode": {
    "name": "ipython",
    "version": 3
   },
   "file_extension": ".py",
   "mimetype": "text/x-python",
   "name": "python",
   "nbconvert_exporter": "python",
   "pygments_lexer": "ipython3",
   "version": "3.13.7"
  }
 },
 "nbformat": 4,
 "nbformat_minor": 5
}
